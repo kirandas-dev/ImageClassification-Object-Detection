{
 "cells": [
  {
   "cell_type": "markdown",
   "metadata": {
    "id": "0FslCE7TeuuQ"
   },
   "source": [
    "# Residual Block Module, Micro/Mini ResNet, for Image Classification of Bird and Dog Species\n",
    "\n",
    "### In this experiment, two custom ResNet models are going to be tested for classifying bird and dog species images.\n",
    "\n",
    "In the first model, I will be implementing a simple ResNet50 module and create a Convolutional Neural Network for image classification of the bird and dog species dataset.\n",
    "\n",
    "## Implementation\n",
    "\n",
    "Implementation of a Simple ResNet50-based Micro-ResNet CNN architecture using Keras for classification of the bird and dog species dataset.\n",
    "\n",
    "## Lineup of tasks\n",
    "\n",
    "1. Implementation of a Simple ResNet50-based Mini-ResNet CNN architecture for classifying the bird and dog species dataset using the Keras API.\n",
    "\n",
    "2. Train and test the model\n",
    "\n",
    "3. Based on the performance, aim is to add layers, apply transfer learning and check for improvements. \n",
    "`\n",
    "**Dataset Structure:**\n",
    "- train: ../train/images\n",
    "- val: ../valid/images\n",
    "- test: ../test/images\n",
    "- nc: 20\n",
    "- names: ['BARN SWALLOW', 'BARRED PUFFBIRD', 'BLACK BAZA', 'BURCHELLS COURSER', 'COPPERY TAILED COUCAL', 'EASTERN BLUEBIRD', 'EMPEROR PENGUIN', 'Gordon_setter', 'JACK SNIPE', 'Leonberg', 'MOURNING DOVE', 'SHOEBILL', 'Shetland_sheepdog', 'Sussex_spaniel', 'Tibetan_terrier', 'flat-coated_retriever', 'giant_schnauzer', 'golden_retriever', 'malinois', 'toy_terrier']\n",
    "\n",
    "**Reference and adapted from:** https://github.com/alinarw/ResNet/blob/master/ResNet.ipynb"
   ]
  },
  {
   "cell_type": "markdown",
   "metadata": {
    "id": "3WpnnqodguDh",
    "tags": []
   },
   "source": [
    "## The ResNet base model begins!"
   ]
  },
  {
   "cell_type": "markdown",
   "metadata": {
    "id": "rahZjYapfk0y",
    "tags": []
   },
   "source": [
    "### Step 1: Import required packages\n",
    "\n",
    "We will need tensorflow, numpy, os and keras\n"
   ]
  },
  {
   "cell_type": "code",
   "execution_count": null,
   "metadata": {
    "tags": []
   },
   "outputs": [],
   "source": [
    "## For visualisation\n",
    "!pip install pydot\n",
    "!pip install --upgrade pydot graphviz\n",
    "!pip install pydot_ng==2.0.0\n",
    "\n"
   ]
  },
  {
   "cell_type": "code",
   "execution_count": 12,
   "metadata": {
    "id": "OB0ONDu2OVEm",
    "tags": []
   },
   "outputs": [],
   "source": [
    "import keras\n",
    "from keras.layers import Layer\n",
    "import keras.backend as K\n",
    "import tensorflow as tf\n",
    "\n",
    "from keras.models import Model\n",
    "from keras.layers import Conv2D, MaxPool2D,  \\\n",
    "    Dropout, Dense, Input, concatenate,      \\\n",
    "    GlobalAveragePooling2D, AveragePooling2D,\\\n",
    "    Flatten, BatchNormalization, Activation, Add\n",
    "\n",
    "from keras.layers import MaxPooling2D, Input\n",
    "from keras.initializers import glorot_uniform\n",
    "\n",
    "import cv2\n",
    "import numpy as np\n",
    "\n",
    "from keras import backend as K\n",
    "from keras import utils\n",
    "\n",
    "from keras import backend as K\n",
    "from keras.regularizers import l2\n",
    "\n",
    "import math\n",
    "from keras.optimizers import SGD, Adam, Adadelta\n",
    "from keras.callbacks import LearningRateScheduler\n",
    "from keras.activations import relu, softmax\n",
    "from keras.callbacks import EarlyStopping, TensorBoard, ModelCheckpoint\n",
    "from sklearn.metrics import confusion_matrix\n",
    "\n",
    "from keras.utils import plot_model\n",
    "#from keras.utils.vis_utils import model_to_dot\n",
    "from IPython.display import HTML, display, clear_output, SVG\n",
    "\n",
    "import warnings\n",
    "warnings.filterwarnings(\"ignore\")\n"
   ]
  },
  {
   "cell_type": "markdown",
   "metadata": {
    "id": "rahZjYapfk0y",
    "tags": []
   },
   "source": [
    "### Step 1: Extracting the dataset. \n",
    "\n",
    "### We will do the following:\n",
    "\n",
    "1. Extracts images from a zip file (imported into the AWS workspace) into a folder, we will call it 'image_dataset'.\n",
    "2. Assigns labels to the images based on their folder names and splits the data into train, validation, and test sets.\n",
    "3. Returns the train, validation, and test data along with their labels and a label mapping dictionary."
   ]
  },
  {
   "cell_type": "code",
   "execution_count": 13,
   "metadata": {
    "id": "av1KCMqb100J",
    "tags": []
   },
   "outputs": [],
   "source": [
    "import zipfile\n",
    "import os\n",
    "import shutil\n",
    "\n",
    "\n",
    "label_map = {}\n",
    "extracted_folder = \"image_dataset\"\n",
    "\n",
    "def extract_and_process_images(zip_file_path):\n",
    "    # Extract the zip file\n",
    "    with zipfile.ZipFile(zip_file_path, 'r') as zip_ref:\n",
    "        zip_ref.extractall(extracted_folder)\n",
    "\n",
    "    # Remove _MACOSX folder if it exists\n",
    "    macosx_folder = os.path.join(extracted_folder, \"__MACOSX\")\n",
    "    if os.path.exists(macosx_folder) and os.path.isdir(macosx_folder):\n",
    "        shutil.rmtree(macosx_folder)\n"
   ]
  },
  {
   "cell_type": "code",
   "execution_count": null,
   "metadata": {},
   "outputs": [],
   "source": [
    "import zipfile\n",
    "import os\n",
    "import shutil\n",
    "\n",
    "\n",
    "label_map = {}\n",
    "extracted_folder = \"image_dataset\"\n",
    "\n",
    "def extract_and_process_images(zip_file_path):\n",
    "    # Extract the zip file\n",
    "    with zipfile.ZipFile(zip_file_path, 'r') as zip_ref:\n",
    "        zip_ref.extractall(extracted_folder)\n",
    "\n",
    "    # Remove _MACOSX folder if it exists\n",
    "    macosx_folder = os.path.join(extracted_folder, \"__MACOSX\")\n",
    "    if os.path.exists(macosx_folder) and os.path.isdir(macosx_folder):\n",
    "        shutil.rmtree(macosx_folder)\n"
   ]
  },
  {
   "cell_type": "code",
   "execution_count": 14,
   "metadata": {
    "id": "EquzOyWD2MDh",
    "tags": []
   },
   "outputs": [],
   "source": [
    "zip_file_path = \"data/dataset.zip\"\n",
    "extract_and_process_images(zip_file_path)"
   ]
  },
  {
   "cell_type": "code",
   "execution_count": 2,
   "metadata": {
    "tags": []
   },
   "outputs": [],
   "source": [
    "import os\n",
    "import cv2\n",
    "import numpy as np\n",
    "from sklearn.model_selection import train_test_split\n",
    "\n",
    "extracted_folder = \"image_dataset\"\n",
    "image_index = 0\n",
    "\n",
    "def assign_labels_to_images(test_size=0.2, val_size=0.2, random_state=24580348):\n",
    "    global image_index\n",
    "\n",
    "    # As each label is assigned a numeric, we will need a dictionary to map between words (folder names) and numeric labels\n",
    "    label_map = {}\n",
    "    labels = []\n",
    "    images = []\n",
    "\n",
    "    # Iterate through each folder in the extracted folder\n",
    "    for i, folder_name in enumerate(sorted(os.listdir(extracted_folder))):\n",
    "        label_map[folder_name] = i\n",
    "        folder_path = os.path.join(extracted_folder, folder_name)\n",
    "        if os.path.isdir(folder_path):\n",
    "            label = label_map[folder_name]\n",
    "            # Iterate through each image file in the folder\n",
    "            for image_file in os.listdir(folder_path):\n",
    "                image_path = os.path.join(folder_path, image_file)\n",
    "                if os.path.isfile(image_path):\n",
    "                    # Read image using OpenCV\n",
    "                    img = cv2.imread(image_path)\n",
    "                    # Append image and label to lists\n",
    "                    images.append(img)\n",
    "                    labels.append(label)\n",
    "                    image_index += 1\n",
    "\n",
    "    # Split data into train, validation, and test sets\n",
    "    X_train, X_temp, y_train, y_temp = train_test_split(images, labels, test_size=0.3, random_state=random_state)\n",
    "    X_val, X_test, y_val, y_test = train_test_split(X_temp, y_temp, test_size=0.33, random_state=random_state)\n",
    "\n",
    "\n",
    "\n",
    "    return X_train, X_val, X_test, y_train, y_val, y_test, label_map\n",
    "\n",
    "# Example usage\n",
    "X_train, X_val, X_test, y_train, y_val, y_test, label_map = assign_labels_to_images(test_size=0.1, val_size=0.2, random_state=24580348)"
   ]
  },
  {
   "cell_type": "code",
   "execution_count": 3,
   "metadata": {
    "tags": []
   },
   "outputs": [
    {
     "name": "stdout",
     "output_type": "stream",
     "text": [
      "Number of samples in training set (X_train, y_train): 2215 2215\n",
      "Number of samples in validation set (X_val, y_val): 636 636\n",
      "Number of samples in test set (X_test, y_test): 314 314\n"
     ]
    }
   ],
   "source": [
    "print(\"Number of samples in training set (X_train, y_train):\", len(X_train), len(y_train))\n",
    "print(\"Number of samples in validation set (X_val, y_val):\", len(X_val), len(y_val))\n",
    "print(\"Number of samples in test set (X_test, y_test):\", len(X_test), len(y_test))\n"
   ]
  },
  {
   "cell_type": "markdown",
   "metadata": {
    "id": "rahZjYapfk0y",
    "tags": []
   },
   "source": [
    "\n",
    "#### We will now check the distribution of data across labels."
   ]
  },
  {
   "cell_type": "code",
   "execution_count": 4,
   "metadata": {
    "tags": []
   },
   "outputs": [
    {
     "name": "stdout",
     "output_type": "stream",
     "text": [
      "Train label distribution:\n",
      "BARN SWALLOW: 98\n",
      "giant_schnauzer: 106\n",
      "BLACK BAZA: 111\n",
      "SHOEBILL: 110\n",
      "Gordon_setter: 102\n",
      "malinois: 110\n",
      "toy_terrier: 112\n",
      "Shetland_sheepdog: 108\n",
      "BARRED PUFFBIRD: 98\n",
      "EMPEROR PENGUIN: 105\n",
      "COPPERY TAILED COUCAL: 110\n",
      "JACK SNIPE: 110\n",
      "Sussex_spaniel: 109\n",
      "Leonberg: 147\n",
      "Tibetan_terrier: 148\n",
      "flat-coated_retriever: 102\n",
      "BURCHELLS COURSER: 112\n",
      "EASTERN BLUEBIRD: 102\n",
      "MOURNING DOVE: 106\n",
      "golden_retriever: 109\n",
      "\n",
      "Validation label distribution:\n",
      "Shetland_sheepdog: 27\n",
      "SHOEBILL: 33\n",
      "toy_terrier: 39\n",
      "BLACK BAZA: 31\n",
      "Tibetan_terrier: 39\n",
      "Sussex_spaniel: 27\n",
      "COPPERY TAILED COUCAL: 28\n",
      "giant_schnauzer: 38\n",
      "JACK SNIPE: 30\n",
      "Gordon_setter: 32\n",
      "BARRED PUFFBIRD: 27\n",
      "BARN SWALLOW: 22\n",
      "flat-coated_retriever: 30\n",
      "golden_retriever: 27\n",
      "BURCHELLS COURSER: 29\n",
      "EASTERN BLUEBIRD: 38\n",
      "malinois: 32\n",
      "Leonberg: 46\n",
      "MOURNING DOVE: 30\n",
      "EMPEROR PENGUIN: 31\n",
      "\n",
      "Test label distribution:\n",
      "toy_terrier: 21\n",
      "Sussex_spaniel: 15\n",
      "flat-coated_retriever: 20\n",
      "EMPEROR PENGUIN: 17\n",
      "SHOEBILL: 21\n",
      "Shetland_sheepdog: 22\n",
      "Gordon_setter: 19\n",
      "Leonberg: 17\n",
      "MOURNING DOVE: 17\n",
      "COPPERY TAILED COUCAL: 11\n",
      "Tibetan_terrier: 19\n",
      "giant_schnauzer: 13\n",
      "BLACK BAZA: 12\n",
      "BARRED PUFFBIRD: 16\n",
      "golden_retriever: 14\n",
      "BARN SWALLOW: 17\n",
      "EASTERN BLUEBIRD: 13\n",
      "JACK SNIPE: 15\n",
      "malinois: 8\n",
      "BURCHELLS COURSER: 7\n"
     ]
    }
   ],
   "source": [
    "from collections import Counter\n",
    "\n",
    "def print_label_distribution(labels, label_map):\n",
    "    label_counts = Counter(labels)\n",
    "    for label, count in label_counts.items():\n",
    "        label_name = list(label_map.keys())[list(label_map.values()).index(label)]\n",
    "        print(f\"{label_name}: {count}\")\n",
    "\n",
    "# Get the label distributions\n",
    "print(\"Train label distribution:\")\n",
    "print_label_distribution(y_train, label_map)\n",
    "\n",
    "print(\"\\nValidation label distribution:\")\n",
    "print_label_distribution(y_val, label_map)\n",
    "\n",
    "print(\"\\nTest label distribution:\")\n",
    "print_label_distribution(y_test, label_map)"
   ]
  },
  {
   "cell_type": "markdown",
   "metadata": {
    "id": "rahZjYapfk0y",
    "tags": []
   },
   "source": [
    "\n",
    "#### Based on the output, it is clear that the label distributions are not evenly distributed across the different classes. The number of images varies significantly for different labels in the train, validation, and test sets.\n",
    "\n",
    "#### For instance, in the train set, the number of images ranges from 83 for 'BARRED PUFFBIRD' to 128 for 'Tibetan_terrier'. Similarly, in the validation set, the number of images ranges from 21 for 'BARN SWALLOW' to 44 for 'Leonberg'. \n",
    "\n",
    "#### This imbalance in the dataset could potentially affect the performance of the model, especially for the classes with fewer examples. To help address this issue, we will pass the class weights we have calculated below to the fit() method when training our model."
   ]
  },
  {
   "cell_type": "code",
   "execution_count": 5,
   "metadata": {
    "tags": []
   },
   "outputs": [],
   "source": [
    "# Calculate class weights to be used in the fit method later. \n",
    "class_weights = {}\n",
    "for label in label_map.values():\n",
    "    class_weights[label] = 1 / y_train.count(label)"
   ]
  },
  {
   "cell_type": "code",
   "execution_count": 6,
   "metadata": {
    "tags": []
   },
   "outputs": [
    {
     "name": "stdout",
     "output_type": "stream",
     "text": [
      "{0: 0.01020408163265306, 1: 0.01020408163265306, 2: 0.009009009009009009, 3: 0.008928571428571428, 4: 0.00909090909090909, 5: 0.00980392156862745, 6: 0.009523809523809525, 7: 0.00980392156862745, 8: 0.00909090909090909, 9: 0.006802721088435374, 10: 0.009433962264150943, 11: 0.00909090909090909, 12: 0.009259259259259259, 13: 0.009174311926605505, 14: 0.006756756756756757, 15: 0.00980392156862745, 16: 0.009433962264150943, 17: 0.009174311926605505, 18: 0.00909090909090909, 19: 0.008928571428571428}\n"
     ]
    }
   ],
   "source": [
    "print (class_weights)"
   ]
  },
  {
   "cell_type": "code",
   "execution_count": 7,
   "metadata": {
    "colab": {
     "base_uri": "https://localhost:8080/"
    },
    "id": "iZaC4rs379Px",
    "outputId": "aded5108-fd02-4330-f332-4ddd52d5a800",
    "tags": []
   },
   "outputs": [
    {
     "name": "stdout",
     "output_type": "stream",
     "text": [
      "Unique values in y_train: [ 0  1  2  3  4  5  6  7  8  9 10 11 12 13 14 15 16 17 18 19]\n",
      "Unique values in y_test: [ 0  1  2  3  4  5  6  7  8  9 10 11 12 13 14 15 16 17 18 19]\n"
     ]
    }
   ],
   "source": [
    "import numpy as np\n",
    "\n",
    "# Printing the unique classes\n",
    "train_unique_values = np.unique(y_train)\n",
    "test_unique_values = np.unique(y_test)\n",
    "\n",
    "print(\"Unique values in y_train:\", train_unique_values)\n",
    "print(\"Unique values in y_test:\", test_unique_values)"
   ]
  },
  {
   "cell_type": "markdown",
   "metadata": {
    "id": "rahZjYapfk0y",
    "tags": []
   },
   "source": [
    "\n",
    "### Data Preprocessing- Image resizing and data normalisation. "
   ]
  },
  {
   "cell_type": "code",
   "execution_count": 8,
   "metadata": {
    "id": "GYw81-ar201V",
    "tags": []
   },
   "outputs": [
    {
     "name": "stderr",
     "output_type": "stream",
     "text": [
      "2024-05-13 12:01:53.868917: I tensorflow/core/platform/cpu_feature_guard.cc:193] This TensorFlow binary is optimized with oneAPI Deep Neural Network Library (oneDNN) to use the following CPU instructions in performance-critical operations:  AVX512F AVX512_VNNI\n",
      "To enable them in other operations, rebuild TensorFlow with the appropriate compiler flags.\n",
      "2024-05-13 12:01:54.028408: W tensorflow/core/profiler/internal/smprofiler_timeline.cc:460] Initializing the SageMaker Profiler.\n",
      "2024-05-13 12:01:54.028547: W tensorflow/core/profiler/internal/smprofiler_timeline.cc:105] SageMaker Profiler is not enabled. The timeline writer thread will not be started, future recorded events will be dropped.\n",
      "2024-05-13 12:01:54.028748: I tensorflow/core/util/port.cc:104] oneDNN custom operations are on. You may see slightly different numerical results due to floating-point round-off errors from different computation orders. To turn them off, set the environment variable `TF_ENABLE_ONEDNN_OPTS=0`.\n",
      "2024-05-13 12:01:54.067564: W tensorflow/core/profiler/internal/smprofiler_timeline.cc:460] Initializing the SageMaker Profiler.\n"
     ]
    }
   ],
   "source": [
    "#X_train, X_test, y_train, y_test\n",
    "from keras.utils import to_categorical\n",
    "\n",
    "img_rows = 256\n",
    "img_cols = 256\n",
    "\n",
    "# Resize training images\n",
    "X_train = np.array([cv2.resize(img, (img_rows, img_cols)) for img in X_train])\n",
    "X_val = np.array([cv2.resize(img, (img_rows, img_cols)) for img in X_val])\n",
    "X_test = np.array([cv2.resize(img, (img_rows, img_cols)) for img in X_test])\n",
    "\n",
    "# # Transform targets to keras compatible format\n",
    "y_train = to_categorical(y_train, 20)\n",
    "y_val = to_categorical(y_val, 20)\n",
    "y_test = to_categorical(y_test, 20)  \n",
    "\n",
    "# Convert the data type to float32\n",
    "X_train_resized = X_train.astype('float32')\n",
    "X_val_resized = X_val.astype('float32')\n",
    "X_test_resized = X_test.astype('float32')\n",
    "\n",
    "# Preprocess data by scaling pixel values to the range [0, 1]\n",
    "X_train_resized /= 255.0\n",
    "X_val_resized /= 255.0\n",
    "X_test_resized /= 255.0\n"
   ]
  },
  {
   "cell_type": "code",
   "execution_count": 9,
   "metadata": {
    "tags": []
   },
   "outputs": [],
   "source": [
    "from keras.preprocessing.image import ImageDataGenerator\n",
    "\n",
    "train_datagen = ImageDataGenerator(\n",
    "    rotation_range=40,\n",
    "    width_shift_range=0.2,\n",
    "    height_shift_range=0.2,\n",
    "    shear_range=0.2,\n",
    "    zoom_range=0.2,\n",
    "    horizontal_flip=True,\n",
    "    fill_mode='nearest')\n",
    "\n",
    "# Fit the data generator to your resized training set\n",
    "train_datagen.fit(X_train_resized)\n",
    "\n",
    "# Specify batch size for training\n",
    "batch_size = 65\n",
    "\n",
    "# Create augmented data generator for training\n",
    "train_generator = train_datagen.flow(X_train_resized, y_train, batch_size=batch_size)\n",
    "\n",
    "\n",
    "val_generator=(X_val_resized, y_val)\n"
   ]
  },
  {
   "cell_type": "markdown",
   "metadata": {
    "id": "tEmXUpDmh-Z1",
    "tags": []
   },
   "source": [
    "### Step 2- Baseline Model Preparation: Design a Micro-ResNet with 1 Layer of Residual Block\n",
    "\n",
    "\n"
   ]
  },
  {
   "cell_type": "code",
   "execution_count": 10,
   "metadata": {
    "tags": []
   },
   "outputs": [],
   "source": [
    "%matplotlib inline"
   ]
  },
  {
   "cell_type": "code",
   "execution_count": 10,
   "metadata": {
    "id": "mx-iv1fypAlS",
    "tags": []
   },
   "outputs": [],
   "source": [
    "def res_block(x, filters, dropout_rate=0.2, kernel_regularizer=None):\n",
    "    print('Input Shape x.shape', x.shape)\n",
    "\n",
    "    # Create 1X1 CONV, --> BatchNormalization --> Activation, Initialize weights with Xavier uniform initialization (glorot_uniform)\n",
    "    conv1 = Conv2D(filters=filters, kernel_size=(1, 1), strides=(2, 2), padding='same',\n",
    "                   kernel_initializer=glorot_uniform(seed=0),\n",
    "                   kernel_regularizer=l2(1e-5))(x)\n",
    "    bn1 = BatchNormalization()(conv1)\n",
    "    act1 = Activation('relu')(bn1)\n",
    "    act1 = Dropout(0.2)(act1)\n",
    "    print('conv1.shape', conv1.shape)\n",
    "\n",
    "    # Create 3X3 CONV, --> BatchNormalization --> Activation, Initialize weights with Xavier uniform initialization (glorot_uniform)\n",
    "    conv2 = Conv2D(filters=filters, kernel_size=(3, 3), strides=(1, 1), padding='same',\n",
    "                   kernel_initializer=glorot_uniform(seed=0),\n",
    "                   kernel_regularizer=kernel_regularizer)(act1)\n",
    "    bn2 = BatchNormalization()(conv2)\n",
    "    act2 = Activation('relu')(bn2)\n",
    "    act2 = Dropout(dropout_rate)(act2)  # Apply dropout after the activation\n",
    "    print('conv2.shape', conv2.shape)\n",
    "\n",
    "    # Create 1X1 CONV, --> BatchNormalization, Initialize weights with Xavier uniform initialization (glorot_uniform)\n",
    "    conv3 = Conv2D(filters=filters, kernel_size=(1, 1), strides=(1, 1), padding='same',\n",
    "                   kernel_initializer=glorot_uniform(seed=0),\n",
    "                   kernel_regularizer=kernel_regularizer)(act2)\n",
    "    bn3 = BatchNormalization()(conv3)\n",
    "    print('conv3.shape', conv3.shape)\n",
    "\n",
    "    # Create 1X1 CONV on the Input to re-shape\n",
    "    x = Conv2D(filters=filters, kernel_size=(1, 1), strides=(2, 2), padding='same',\n",
    "               kernel_regularizer=kernel_regularizer)(x)\n",
    "\n",
    "    out = Add()([bn3, x])\n",
    "\n",
    "    return out"
   ]
  },
  {
   "cell_type": "code",
   "execution_count": 13,
   "metadata": {
    "colab": {
     "base_uri": "https://localhost:8080/"
    },
    "id": "LJiHGAsSsepM",
    "outputId": "5770bb27-f2e3-4394-a2c0-9416b2605a41",
    "scrolled": true,
    "tags": []
   },
   "outputs": [
    {
     "name": "stderr",
     "output_type": "stream",
     "text": [
      "2024-05-13 12:02:26.092739: I tensorflow/compiler/xla/stream_executor/cuda/cuda_gpu_executor.cc:981] successful NUMA node read from SysFS had negative value (-1), but there must be at least one NUMA node, so returning NUMA node zero\n",
      "2024-05-13 12:02:26.102257: I tensorflow/compiler/xla/stream_executor/cuda/cuda_gpu_executor.cc:981] successful NUMA node read from SysFS had negative value (-1), but there must be at least one NUMA node, so returning NUMA node zero\n",
      "2024-05-13 12:02:26.105599: I tensorflow/compiler/xla/stream_executor/cuda/cuda_gpu_executor.cc:981] successful NUMA node read from SysFS had negative value (-1), but there must be at least one NUMA node, so returning NUMA node zero\n",
      "2024-05-13 12:02:26.109048: I tensorflow/core/platform/cpu_feature_guard.cc:193] This TensorFlow binary is optimized with oneAPI Deep Neural Network Library (oneDNN) to use the following CPU instructions in performance-critical operations:  AVX512F AVX512_VNNI\n",
      "To enable them in other operations, rebuild TensorFlow with the appropriate compiler flags.\n",
      "2024-05-13 12:02:26.109449: I tensorflow/compiler/xla/stream_executor/cuda/cuda_gpu_executor.cc:981] successful NUMA node read from SysFS had negative value (-1), but there must be at least one NUMA node, so returning NUMA node zero\n",
      "2024-05-13 12:02:26.112726: I tensorflow/compiler/xla/stream_executor/cuda/cuda_gpu_executor.cc:981] successful NUMA node read from SysFS had negative value (-1), but there must be at least one NUMA node, so returning NUMA node zero\n",
      "2024-05-13 12:02:26.115865: I tensorflow/compiler/xla/stream_executor/cuda/cuda_gpu_executor.cc:981] successful NUMA node read from SysFS had negative value (-1), but there must be at least one NUMA node, so returning NUMA node zero\n",
      "2024-05-13 12:02:26.594156: I tensorflow/compiler/xla/stream_executor/cuda/cuda_gpu_executor.cc:981] successful NUMA node read from SysFS had negative value (-1), but there must be at least one NUMA node, so returning NUMA node zero\n",
      "2024-05-13 12:02:26.595954: I tensorflow/compiler/xla/stream_executor/cuda/cuda_gpu_executor.cc:981] successful NUMA node read from SysFS had negative value (-1), but there must be at least one NUMA node, so returning NUMA node zero\n",
      "2024-05-13 12:02:26.597540: I tensorflow/compiler/xla/stream_executor/cuda/cuda_gpu_executor.cc:981] successful NUMA node read from SysFS had negative value (-1), but there must be at least one NUMA node, so returning NUMA node zero\n",
      "2024-05-13 12:02:26.599070: I tensorflow/core/common_runtime/gpu/gpu_device.cc:1613] Created device /job:localhost/replica:0/task:0/device:GPU:0 with 13653 MB memory:  -> device: 0, name: Tesla T4, pci bus id: 0000:00:1e.0, compute capability: 7.5\n"
     ]
    },
    {
     "name": "stdout",
     "output_type": "stream",
     "text": [
      "Input Shape x.shape (None, 64, 64, 64)\n",
      "conv1.shape (None, 32, 32, 64)\n",
      "conv2.shape (None, 32, 32, 64)\n",
      "conv3.shape (None, 32, 32, 64)\n",
      "---------block 1 end-----------\n"
     ]
    }
   ],
   "source": [
    "# Define Images dimension and number of classes\n",
    "img_rows, img_cols = 256, 256\n",
    "input_shape = (img_rows, img_cols, 3)\n",
    "num_classes = 20\n",
    "\n",
    "# Create the input layer\n",
    "input_layer = Input(shape=input_shape) # Use the actual input size\n",
    "\n",
    "# Create 7X7X64 CONV --> BatchNormalization --> Activation\n",
    "x = Conv2D(64, padding='same',\n",
    "           kernel_initializer='he_normal',\n",
    "           kernel_size=7, strides=2,\n",
    "           )(input_layer)\n",
    "x = BatchNormalization()(x)\n",
    "x = Activation('relu')(x)\n",
    "\n",
    "# Add MaxPOOL, 3X3, Pad: Same, Stride: 2\n",
    "x = MaxPooling2D(pool_size=3,padding='same', strides=2)(x)\n",
    "\n",
    "# Add 1 ResNet block, 64 filter\n",
    "res_block1 = res_block(x, 64)\n",
    "print('---------block 1 end-----------')\n",
    "\n",
    "\n",
    "# Add global average pooling for dimensionality reduction\n",
    "res_block1 = keras.layers.GlobalAveragePooling2D()(res_block1)\n",
    "\n",
    "# Create Classifier Block\n",
    "# Add Flatten layer\n",
    "classifer_Block = Flatten()(res_block1)\n",
    "\n",
    "# Add Dense Layer, 1000 nodes, Activation - ReLU\n",
    "classifer_Block = Dense(1000,\n",
    "                activation='relu')(classifer_Block)\n",
    "classifer_Block = Dropout(0.5)(classifer_Block)  # Dropout rate of 0.5 (50%)\n",
    "\n",
    "# Add Dense Layer, 10 nodes, Activation = SoftMax\n",
    "outputs = Dense(num_classes,\n",
    "                activation='softmax')(classifer_Block)"
   ]
  },
  {
   "cell_type": "code",
   "execution_count": 8,
   "metadata": {
    "id": "Yb5LCr9OsOM_",
    "tags": []
   },
   "outputs": [],
   "source": [
    "# kernel_init = keras.initializers.glorot_uniform()\n",
    "# bias_init = keras.initializers.Constant(value=0.2)"
   ]
  },
  {
   "cell_type": "code",
   "execution_count": 14,
   "metadata": {
    "id": "WoYM0CJQshM6",
    "tags": []
   },
   "outputs": [],
   "source": [
    "# Form the model\n",
    "model = Model(input_layer, outputs, name='Micro_ResNet')"
   ]
  },
  {
   "cell_type": "code",
   "execution_count": 15,
   "metadata": {
    "colab": {
     "base_uri": "https://localhost:8080/",
     "height": 1000
    },
    "id": "3jYRiIKEso2s",
    "outputId": "dcc51869-10de-4f21-e5c8-a120e5d489e1",
    "tags": []
   },
   "outputs": [
    {
     "name": "stdout",
     "output_type": "stream",
     "text": [
      "Model: \"Micro_ResNet\"\n",
      "__________________________________________________________________________________________________\n",
      " Layer (type)                   Output Shape         Param #     Connected to                     \n",
      "==================================================================================================\n",
      " input_1 (InputLayer)           [(None, 256, 256, 3  0           []                               \n",
      "                                )]                                                                \n",
      "                                                                                                  \n",
      " conv2d (Conv2D)                (None, 128, 128, 64  9472        ['input_1[0][0]']                \n",
      "                                )                                                                 \n",
      "                                                                                                  \n",
      " batch_normalization (BatchNorm  (None, 128, 128, 64  256        ['conv2d[0][0]']                 \n",
      " alization)                     )                                                                 \n",
      "                                                                                                  \n",
      " activation (Activation)        (None, 128, 128, 64  0           ['batch_normalization[0][0]']    \n",
      "                                )                                                                 \n",
      "                                                                                                  \n",
      " max_pooling2d (MaxPooling2D)   (None, 64, 64, 64)   0           ['activation[0][0]']             \n",
      "                                                                                                  \n",
      " conv2d_1 (Conv2D)              (None, 32, 32, 64)   4160        ['max_pooling2d[0][0]']          \n",
      "                                                                                                  \n",
      " batch_normalization_1 (BatchNo  (None, 32, 32, 64)  256         ['conv2d_1[0][0]']               \n",
      " rmalization)                                                                                     \n",
      "                                                                                                  \n",
      " activation_1 (Activation)      (None, 32, 32, 64)   0           ['batch_normalization_1[0][0]']  \n",
      "                                                                                                  \n",
      " dropout (Dropout)              (None, 32, 32, 64)   0           ['activation_1[0][0]']           \n",
      "                                                                                                  \n",
      " conv2d_2 (Conv2D)              (None, 32, 32, 64)   36928       ['dropout[0][0]']                \n",
      "                                                                                                  \n",
      " batch_normalization_2 (BatchNo  (None, 32, 32, 64)  256         ['conv2d_2[0][0]']               \n",
      " rmalization)                                                                                     \n",
      "                                                                                                  \n",
      " activation_2 (Activation)      (None, 32, 32, 64)   0           ['batch_normalization_2[0][0]']  \n",
      "                                                                                                  \n",
      " dropout_1 (Dropout)            (None, 32, 32, 64)   0           ['activation_2[0][0]']           \n",
      "                                                                                                  \n",
      " conv2d_3 (Conv2D)              (None, 32, 32, 64)   4160        ['dropout_1[0][0]']              \n",
      "                                                                                                  \n",
      " batch_normalization_3 (BatchNo  (None, 32, 32, 64)  256         ['conv2d_3[0][0]']               \n",
      " rmalization)                                                                                     \n",
      "                                                                                                  \n",
      " conv2d_4 (Conv2D)              (None, 32, 32, 64)   4160        ['max_pooling2d[0][0]']          \n",
      "                                                                                                  \n",
      " add (Add)                      (None, 32, 32, 64)   0           ['batch_normalization_3[0][0]',  \n",
      "                                                                  'conv2d_4[0][0]']               \n",
      "                                                                                                  \n",
      " global_average_pooling2d (Glob  (None, 64)          0           ['add[0][0]']                    \n",
      " alAveragePooling2D)                                                                              \n",
      "                                                                                                  \n",
      " flatten (Flatten)              (None, 64)           0           ['global_average_pooling2d[0][0]'\n",
      "                                                                 ]                                \n",
      "                                                                                                  \n",
      " dense (Dense)                  (None, 1000)         65000       ['flatten[0][0]']                \n",
      "                                                                                                  \n",
      " dropout_2 (Dropout)            (None, 1000)         0           ['dense[0][0]']                  \n",
      "                                                                                                  \n",
      " dense_1 (Dense)                (None, 20)           20020       ['dropout_2[0][0]']              \n",
      "                                                                                                  \n",
      "==================================================================================================\n",
      "Total params: 144,924\n",
      "Trainable params: 144,412\n",
      "Non-trainable params: 512\n",
      "__________________________________________________________________________________________________\n"
     ]
    }
   ],
   "source": [
    "\n",
    "model.summary()\n",
    "\n",
    "#plot_model(model, to_file='model.png', show_layer_names=True, show_shapes=True, rankdir='TB')\n"
   ]
  },
  {
   "cell_type": "code",
   "execution_count": 6,
   "metadata": {
    "tags": []
   },
   "outputs": [],
   "source": [
    "#model.save('base_imageclassifier_resnet_model.h5')\n"
   ]
  },
  {
   "cell_type": "code",
   "execution_count": 14,
   "metadata": {
    "tags": []
   },
   "outputs": [],
   "source": [
    "# from tensorflow.keras.models import load_model\n",
    "\n",
    "# # Load the saved model weights\n",
    "# model = load_model('base_imageclassifier_resnet_model.h5')\n",
    "\n"
   ]
  },
  {
   "cell_type": "markdown",
   "metadata": {
    "id": "ryE__lGFi91_",
    "tags": []
   },
   "source": [
    "### Define the Hyper-parameters, Compile the model, Start training"
   ]
  },
  {
   "cell_type": "code",
   "execution_count": 16,
   "metadata": {
    "tags": []
   },
   "outputs": [],
   "source": [
    "# Recompile the model\n",
    "model.compile(optimizer='adam', loss='categorical_crossentropy', metrics=['accuracy'])\n",
    "\n"
   ]
  },
  {
   "cell_type": "code",
   "execution_count": 17,
   "metadata": {
    "tags": []
   },
   "outputs": [
    {
     "name": "stdout",
     "output_type": "stream",
     "text": [
      "Number of samples in X_train_resized: 636\n",
      "Number of samples in y_train: 636\n"
     ]
    }
   ],
   "source": [
    "print(\"Number of samples in X_train_resized:\", len(X_val_resized))\n",
    "print(\"Number of samples in y_train:\", len(y_val))\n"
   ]
  },
  {
   "cell_type": "code",
   "execution_count": 18,
   "metadata": {
    "tags": []
   },
   "outputs": [
    {
     "name": "stdout",
     "output_type": "stream",
     "text": [
      "Epoch 1/100\n"
     ]
    },
    {
     "name": "stderr",
     "output_type": "stream",
     "text": [
      "2024-05-13 12:03:00.376070: E tensorflow/core/grappler/optimizers/meta_optimizer.cc:954] layout failed: INVALID_ARGUMENT: Size of values 0 does not match size of permutation 4 @ fanin shape inMicro_ResNet/dropout/dropout/SelectV2-2-TransposeNHWCToNCHW-LayoutOptimizer\n",
      "2024-05-13 12:03:02.055377: I tensorflow/compiler/xla/stream_executor/cuda/cuda_dnn.cc:428] Loaded cuDNN version 8204\n",
      "2024-05-13 12:03:03.678105: I tensorflow/compiler/xla/service/service.cc:173] XLA service 0x5577d8cdfa50 initialized for platform CUDA (this does not guarantee that XLA will be used). Devices:\n",
      "2024-05-13 12:03:03.678155: I tensorflow/compiler/xla/service/service.cc:181]   StreamExecutor device (0): Tesla T4, Compute Capability 7.5\n",
      "2024-05-13 12:03:03.685589: I tensorflow/compiler/mlir/tensorflow/utils/dump_mlir_util.cc:268] disabling MLIR crash reproducer, set env var `MLIR_CRASH_REPRODUCER_DIRECTORY` to enable.\n",
      "2024-05-13 12:03:03.850601: I tensorflow/compiler/jit/xla_compilation_cache.cc:477] Compiled cluster using XLA!  This line is logged at most once for the lifetime of the process.\n"
     ]
    },
    {
     "name": "stdout",
     "output_type": "stream",
     "text": [
      "35/35 [==============================] - 31s 700ms/step - loss: 0.0255 - accuracy: 0.1499 - val_loss: 3.3018 - val_accuracy: 0.0503\n",
      "Epoch 2/100\n",
      "35/35 [==============================] - 27s 766ms/step - loss: 0.0219 - accuracy: 0.2497 - val_loss: 4.0584 - val_accuracy: 0.0676\n",
      "Epoch 3/100\n",
      "35/35 [==============================] - 27s 769ms/step - loss: 0.0200 - accuracy: 0.3187 - val_loss: 4.7104 - val_accuracy: 0.0456\n",
      "Epoch 4/100\n",
      "35/35 [==============================] - 27s 767ms/step - loss: 0.0185 - accuracy: 0.3472 - val_loss: 6.4781 - val_accuracy: 0.0440\n",
      "Epoch 5/100\n",
      "35/35 [==============================] - 27s 771ms/step - loss: 0.0181 - accuracy: 0.3806 - val_loss: 8.7026 - val_accuracy: 0.0346\n",
      "Epoch 6/100\n",
      "35/35 [==============================] - 27s 770ms/step - loss: 0.0173 - accuracy: 0.3928 - val_loss: 3.9486 - val_accuracy: 0.1085\n",
      "Epoch 7/100\n",
      "35/35 [==============================] - 27s 768ms/step - loss: 0.0172 - accuracy: 0.3955 - val_loss: 7.6246 - val_accuracy: 0.0865\n",
      "Epoch 8/100\n",
      "35/35 [==============================] - 27s 766ms/step - loss: 0.0166 - accuracy: 0.4239 - val_loss: 4.0907 - val_accuracy: 0.1604\n",
      "Epoch 9/100\n",
      "35/35 [==============================] - 27s 772ms/step - loss: 0.0160 - accuracy: 0.4375 - val_loss: 5.2520 - val_accuracy: 0.1698\n",
      "Epoch 10/100\n",
      "35/35 [==============================] - 27s 765ms/step - loss: 0.0160 - accuracy: 0.4298 - val_loss: 5.3439 - val_accuracy: 0.1855\n",
      "Epoch 11/100\n",
      "35/35 [==============================] - 27s 773ms/step - loss: 0.0157 - accuracy: 0.4460 - val_loss: 2.2551 - val_accuracy: 0.3019\n",
      "Epoch 12/100\n",
      "35/35 [==============================] - 27s 769ms/step - loss: 0.0157 - accuracy: 0.4551 - val_loss: 2.5313 - val_accuracy: 0.2563\n",
      "Epoch 13/100\n",
      "35/35 [==============================] - 27s 765ms/step - loss: 0.0152 - accuracy: 0.4605 - val_loss: 1.9527 - val_accuracy: 0.3679\n",
      "Epoch 14/100\n",
      "35/35 [==============================] - 27s 769ms/step - loss: 0.0148 - accuracy: 0.4772 - val_loss: 2.5467 - val_accuracy: 0.3050\n",
      "Epoch 15/100\n",
      "35/35 [==============================] - 27s 768ms/step - loss: 0.0147 - accuracy: 0.4749 - val_loss: 3.2871 - val_accuracy: 0.2925\n",
      "Epoch 16/100\n",
      "35/35 [==============================] - 27s 769ms/step - loss: 0.0143 - accuracy: 0.4817 - val_loss: 2.2128 - val_accuracy: 0.3223\n",
      "Epoch 17/100\n",
      "35/35 [==============================] - 27s 769ms/step - loss: 0.0144 - accuracy: 0.4998 - val_loss: 2.2041 - val_accuracy: 0.3019\n",
      "Epoch 18/100\n",
      "35/35 [==============================] - 27s 765ms/step - loss: 0.0139 - accuracy: 0.4993 - val_loss: 2.9547 - val_accuracy: 0.2469\n",
      "Epoch 19/100\n",
      "35/35 [==============================] - 27s 777ms/step - loss: 0.0137 - accuracy: 0.5084 - val_loss: 3.2501 - val_accuracy: 0.1808\n",
      "Epoch 20/100\n",
      "35/35 [==============================] - 27s 777ms/step - loss: 0.0141 - accuracy: 0.5002 - val_loss: 3.6128 - val_accuracy: 0.1808\n",
      "Epoch 21/100\n",
      "35/35 [==============================] - 27s 776ms/step - loss: 0.0135 - accuracy: 0.5287 - val_loss: 2.3274 - val_accuracy: 0.3129\n",
      "Epoch 22/100\n",
      "35/35 [==============================] - 27s 770ms/step - loss: 0.0137 - accuracy: 0.5160 - val_loss: 3.6384 - val_accuracy: 0.2689\n",
      "Epoch 23/100\n",
      "35/35 [==============================] - 27s 771ms/step - loss: 0.0130 - accuracy: 0.5318 - val_loss: 1.9655 - val_accuracy: 0.3899\n"
     ]
    },
    {
     "data": {
      "text/plain": [
       "<keras.callbacks.History at 0x7f52ef62c790>"
      ]
     },
     "execution_count": 18,
     "metadata": {},
     "output_type": "execute_result"
    }
   ],
   "source": [
    "from keras.callbacks import EarlyStopping\n",
    "\n",
    "# Define early stopping criteria\n",
    "early_stopping = EarlyStopping(monitor='val_loss', patience=10, restore_best_weights=True)\n",
    "\n",
    "# Train the model with early stopping\n",
    "model.fit(\n",
    "    train_generator,\n",
    "    epochs=100,\n",
    "    validation_data=val_generator,\n",
    "    class_weight=class_weights,\n",
    "    callbacks=[early_stopping]\n",
    ")\n"
   ]
  },
  {
   "cell_type": "markdown",
   "metadata": {
    "id": "fBNH3MM7mYJz",
    "tags": []
   },
   "source": [
    "### Display Training and Validation accuracy curve"
   ]
  },
  {
   "cell_type": "code",
   "execution_count": 19,
   "metadata": {
    "colab": {
     "base_uri": "https://localhost:8080/",
     "height": 469
    },
    "id": "Fdpkn4XVewUk",
    "outputId": "6300e54d-3e78-4238-dc1b-0c0af686febf",
    "tags": []
   },
   "outputs": [
    {
     "data": {
      "image/png": "[encoded data removed]",
      "text/plain": [
       "<Figure size 1200x800 with 2 Axes>"
      ]
     },
     "metadata": {},
     "output_type": "display_data"
    }
   ],
   "source": [
    "## Plot the Training and Validation loss\n",
    "import matplotlib.pyplot as plt\n",
    "\n",
    "acc = model.history.history['accuracy']\n",
    "val_acc = model.history.history['val_accuracy']\n",
    "loss = model.history.history['loss']\n",
    "val_loss = model.history.history['val_loss']\n",
    "\n",
    "epochs = range(len(acc))\n",
    "\n",
    "plt.figure(figsize=(12, 8))\n",
    "plt.subplot(1, 2, 1)\n",
    "plt.plot(epochs, acc, 'bo', label='Training accuracy')\n",
    "plt.plot(epochs, val_acc, 'b', label='Validation accuracy')\n",
    "plt.title('Training and validation accuracy')\n",
    "plt.legend()\n",
    "\n",
    "plt.subplot(1, 2, 2)\n",
    "plt.plot(epochs, loss, 'bo', label='Training Loss')\n",
    "plt.plot(epochs, val_loss, 'b', label='Validation Loss')\n",
    "plt.title('Training and validation loss')\n",
    "plt.legend()\n",
    "\n",
    "plt.show()"
   ]
  },
  {
   "cell_type": "markdown",
   "metadata": {
    "id": "fBNH3MM7mYJz",
    "tags": []
   },
   "source": [
    "### Evaluating the results on Test set. "
   ]
  },
  {
   "cell_type": "code",
   "execution_count": 22,
   "metadata": {
    "colab": {
     "base_uri": "https://localhost:8080/"
    },
    "id": "k7CS5apfGYpa",
    "outputId": "0bd640d9-2077-484c-e1b5-207a6fa2f3af",
    "tags": []
   },
   "outputs": [
    {
     "name": "stdout",
     "output_type": "stream",
     "text": [
      "10/10 [==============================] - 0s 19ms/step - loss: 1.8152 - accuracy: 0.4076\n",
      "Test loss: 1.8151865005493164\n",
      "Test accuracy: 0.40764331817626953\n",
      "20/20 [==============================] - 0s 16ms/step - loss: 1.9527 - accuracy: 0.3679\n",
      "Val loss: 1.9527000188827515\n",
      "Val accuracy: 0.3679245412349701\n",
      "70/70 [==============================] - 1s 17ms/step - loss: 1.7063 - accuracy: 0.4465\n",
      "Train loss: 1.706318736076355\n",
      "Train accuracy: 0.44650113582611084\n"
     ]
    }
   ],
   "source": [
    "scores = model.evaluate(X_test_resized, y_test, verbose=1)\n",
    "print('Test loss:', scores[0])\n",
    "print('Test accuracy:', scores[1])\n",
    "\n",
    "\n",
    "scores = model.evaluate(X_val_resized, y_val, verbose=1)\n",
    "print('Val loss:', scores[0])\n",
    "print('Val accuracy:', scores[1])\n",
    "\n",
    "\n",
    "scores = model.evaluate(X_train_resized, y_train, verbose=1)\n",
    "print('Train loss:', scores[0])\n",
    "print('Train accuracy:', scores[1])"
   ]
  },
  {
   "cell_type": "markdown",
   "metadata": {
    "id": "fBNH3MM7mYJz",
    "tags": []
   },
   "source": [
    "### Making changes to the baseline model with the below approach:\n",
    "\n",
    "1. **Adding a pretrained model (Imagenet weights initialised) **: The model uses the ResNet50 architecture pretrained on ImageNet for feature extraction, excluding the top layers to facilitate transfer learning on a custom dataset.\n",
    "  \n",
    "2. **Custom ResBlocks**: Additional residual blocks are added to the base model to enhance feature learning with batch normalization and dropout for improved model performance.\n",
    "\n",
    "3. **Classification Layers**: Just like the baseline model, Global average pooling is applied for dimensionality reduction followed by dense layers for classification, including dropout regularization to reduce overfitting, followed by a softmax activation layer for multi-class classification.\n"
   ]
  },
  {
   "cell_type": "code",
   "execution_count": 56,
   "metadata": {
    "tags": []
   },
   "outputs": [],
   "source": [
    "from tensorflow.keras.regularizers import l2\n",
    "\n",
    "def res_block(x, filters, dropout_rate=0.2, kernel_regularizer=None):\n",
    "    print('Input Shape x.shape', x.shape)\n",
    "\n",
    "    # Create 1X1 CONV, --> BatchNormalization --> Activation, Initialize weights with Xavier uniform initialization (glorot_uniform)\n",
    "    conv1 = Conv2D(filters=filters, kernel_size=(1, 1), strides=(2, 2), padding='same',\n",
    "                   kernel_initializer=glorot_uniform(seed=0),\n",
    "                   kernel_regularizer=l2(1e-4))(x)  # Increased regularization strength\n",
    "    bn1 = BatchNormalization()(conv1)\n",
    "    act1 = Activation('relu')(bn1)\n",
    "    act1 = Dropout(0.1)(act1)  # Decreased dropout rate\n",
    "    print('conv1.shape', conv1.shape)\n",
    "\n",
    "    # Create 3X3 CONV, --> BatchNormalization --> Activation, Initialize weights with Xavier uniform initialization (glorot_uniform)\n",
    "    conv2 = Conv2D(filters=filters, kernel_size=(3, 3), strides=(1, 1), padding='same',\n",
    "                   kernel_initializer=glorot_uniform(seed=0),\n",
    "                   kernel_regularizer=kernel_regularizer)(act1)\n",
    "    bn2 = BatchNormalization()(conv2)\n",
    "    act2 = Activation('relu')(bn2)\n",
    "    act2 = Dropout(dropout_rate)(act2)  # Apply dropout after the activation\n",
    "    print('conv2.shape', conv2.shape)\n",
    "\n",
    "    # Create 1X1 CONV, --> BatchNormalization, Initialize weights with Xavier uniform initialization (glorot_uniform)\n",
    "    conv3 = Conv2D(filters=filters, kernel_size=(1, 1), strides=(1, 1), padding='same',\n",
    "                   kernel_initializer=glorot_uniform(seed=0),\n",
    "                   kernel_regularizer=kernel_regularizer)(act2)\n",
    "    bn3 = BatchNormalization()(conv3)\n",
    "    print('conv3.shape', conv3.shape)\n",
    "\n",
    "    # Create 1X1 CONV on the Input to re-shape\n",
    "    x = Conv2D(filters=filters, kernel_size=(1, 1), strides=(2, 2), padding='same',\n",
    "               kernel_regularizer=kernel_regularizer)(x)\n",
    "\n",
    "    out = Add()([bn3, x])\n",
    "\n",
    "    return out\n"
   ]
  },
  {
   "cell_type": "code",
   "execution_count": 57,
   "metadata": {
    "tags": []
   },
   "outputs": [
    {
     "name": "stdout",
     "output_type": "stream",
     "text": [
      "Input Shape x.shape (None, 8, 8, 2048)\n",
      "conv1.shape (None, 4, 4, 64)\n",
      "conv2.shape (None, 4, 4, 64)\n",
      "conv3.shape (None, 4, 4, 64)\n",
      "---------block 1 end-----------\n",
      "Input Shape x.shape (None, 4, 4, 64)\n",
      "conv1.shape (None, 2, 2, 256)\n",
      "conv2.shape (None, 2, 2, 256)\n",
      "conv3.shape (None, 2, 2, 256)\n",
      "---------block 2 end-----------\n"
     ]
    }
   ],
   "source": [
    "from tensorflow.keras.applications import ResNet50\n",
    "\n",
    "\n",
    "# We will load the pre-trained ResNet50 model without top layers\n",
    "img_rows, img_cols = 256, 256  # Initialising the input shape again just in case the notebook stops running. \n",
    "input_shape = (img_rows, img_cols, 3)\n",
    "num_classes = 20\n",
    "base_model = ResNet50(weights='imagenet', include_top=False, input_shape=input_shape)\n",
    "\n",
    "for layer in base_model.layers:\n",
    "    layer.trainable = True\n",
    "x = base_model.output\n",
    "# Adding custom ResBlock after base model\n",
    "res_block1 = res_block(x, 64)\n",
    "print('---------block 1 end-----------')\n",
    "res_block2 = res_block(res_block1, 256)  # Added one more res block\n",
    "print('---------block 2 end-----------')\n",
    "\n",
    "# Adding global average pooling for dimensionality reduction\n",
    "x = keras.layers.GlobalAveragePooling2D()(x)\n",
    "\n",
    "# Adding custom classification layers\n",
    "x = Dense(512, activation='relu')(x)\n",
    "x = Dropout(0.5)(x)\n",
    "predictions = Dense(num_classes, activation='softmax')(x)\n",
    "\n",
    "# Creating the final model\n",
    "custom_resnet = Model(inputs=base_model.input, outputs=predictions)\n",
    "\n",
    "# Compile the model with Adam optimizer and categorical crossentropy loss\n",
    "custom_resnet.compile(optimizer='adam', loss='categorical_crossentropy', metrics=['accuracy'])\n",
    "\n",
    "\n",
    "\n"
   ]
  },
  {
   "cell_type": "code",
   "execution_count": 55,
   "metadata": {
    "colab": {
     "base_uri": "https://localhost:8080/",
     "height": 1000
    },
    "id": "rVXKF4IAU88Q",
    "outputId": "cbfb4ee0-51a6-429f-a127-61094d8824b1",
    "tags": []
   },
   "outputs": [
    {
     "name": "stdout",
     "output_type": "stream",
     "text": [
      "Model: \"model_5\"\n",
      "__________________________________________________________________________________________________\n",
      " Layer (type)                   Output Shape         Param #     Connected to                     \n",
      "==================================================================================================\n",
      " input_7 (InputLayer)           [(None, 256, 256, 3  0           []                               \n",
      "                                )]                                                                \n",
      "                                                                                                  \n",
      " conv1_pad (ZeroPadding2D)      (None, 262, 262, 3)  0           ['input_7[0][0]']                \n",
      "                                                                                                  \n",
      " conv1_conv (Conv2D)            (None, 128, 128, 64  9472        ['conv1_pad[0][0]']              \n",
      "                                )                                                                 \n",
      "                                                                                                  \n",
      " conv1_bn (BatchNormalization)  (None, 128, 128, 64  256         ['conv1_conv[0][0]']             \n",
      "                                )                                                                 \n",
      "                                                                                                  \n",
      " conv1_relu (Activation)        (None, 128, 128, 64  0           ['conv1_bn[0][0]']               \n",
      "                                )                                                                 \n",
      "                                                                                                  \n",
      " pool1_pad (ZeroPadding2D)      (None, 130, 130, 64  0           ['conv1_relu[0][0]']             \n",
      "                                )                                                                 \n",
      "                                                                                                  \n",
      " pool1_pool (MaxPooling2D)      (None, 64, 64, 64)   0           ['pool1_pad[0][0]']              \n",
      "                                                                                                  \n",
      " conv2_block1_1_conv (Conv2D)   (None, 64, 64, 64)   4160        ['pool1_pool[0][0]']             \n",
      "                                                                                                  \n",
      " conv2_block1_1_bn (BatchNormal  (None, 64, 64, 64)  256         ['conv2_block1_1_conv[0][0]']    \n",
      " ization)                                                                                         \n",
      "                                                                                                  \n",
      " conv2_block1_1_relu (Activatio  (None, 64, 64, 64)  0           ['conv2_block1_1_bn[0][0]']      \n",
      " n)                                                                                               \n",
      "                                                                                                  \n",
      " conv2_block1_2_conv (Conv2D)   (None, 64, 64, 64)   36928       ['conv2_block1_1_relu[0][0]']    \n",
      "                                                                                                  \n",
      " conv2_block1_2_bn (BatchNormal  (None, 64, 64, 64)  256         ['conv2_block1_2_conv[0][0]']    \n",
      " ization)                                                                                         \n",
      "                                                                                                  \n",
      " conv2_block1_2_relu (Activatio  (None, 64, 64, 64)  0           ['conv2_block1_2_bn[0][0]']      \n",
      " n)                                                                                               \n",
      "                                                                                                  \n",
      " conv2_block1_0_conv (Conv2D)   (None, 64, 64, 256)  16640       ['pool1_pool[0][0]']             \n",
      "                                                                                                  \n",
      " conv2_block1_3_conv (Conv2D)   (None, 64, 64, 256)  16640       ['conv2_block1_2_relu[0][0]']    \n",
      "                                                                                                  \n",
      " conv2_block1_0_bn (BatchNormal  (None, 64, 64, 256)  1024       ['conv2_block1_0_conv[0][0]']    \n",
      " ization)                                                                                         \n",
      "                                                                                                  \n",
      " conv2_block1_3_bn (BatchNormal  (None, 64, 64, 256)  1024       ['conv2_block1_3_conv[0][0]']    \n",
      " ization)                                                                                         \n",
      "                                                                                                  \n",
      " conv2_block1_add (Add)         (None, 64, 64, 256)  0           ['conv2_block1_0_bn[0][0]',      \n",
      "                                                                  'conv2_block1_3_bn[0][0]']      \n",
      "                                                                                                  \n",
      " conv2_block1_out (Activation)  (None, 64, 64, 256)  0           ['conv2_block1_add[0][0]']       \n",
      "                                                                                                  \n",
      " conv2_block2_1_conv (Conv2D)   (None, 64, 64, 64)   16448       ['conv2_block1_out[0][0]']       \n",
      "                                                                                                  \n",
      " conv2_block2_1_bn (BatchNormal  (None, 64, 64, 64)  256         ['conv2_block2_1_conv[0][0]']    \n",
      " ization)                                                                                         \n",
      "                                                                                                  \n",
      " conv2_block2_1_relu (Activatio  (None, 64, 64, 64)  0           ['conv2_block2_1_bn[0][0]']      \n",
      " n)                                                                                               \n",
      "                                                                                                  \n",
      " conv2_block2_2_conv (Conv2D)   (None, 64, 64, 64)   36928       ['conv2_block2_1_relu[0][0]']    \n",
      "                                                                                                  \n",
      " conv2_block2_2_bn (BatchNormal  (None, 64, 64, 64)  256         ['conv2_block2_2_conv[0][0]']    \n",
      " ization)                                                                                         \n",
      "                                                                                                  \n",
      " conv2_block2_2_relu (Activatio  (None, 64, 64, 64)  0           ['conv2_block2_2_bn[0][0]']      \n",
      " n)                                                                                               \n",
      "                                                                                                  \n",
      " conv2_block2_3_conv (Conv2D)   (None, 64, 64, 256)  16640       ['conv2_block2_2_relu[0][0]']    \n",
      "                                                                                                  \n",
      " conv2_block2_3_bn (BatchNormal  (None, 64, 64, 256)  1024       ['conv2_block2_3_conv[0][0]']    \n",
      " ization)                                                                                         \n",
      "                                                                                                  \n",
      " conv2_block2_add (Add)         (None, 64, 64, 256)  0           ['conv2_block1_out[0][0]',       \n",
      "                                                                  'conv2_block2_3_bn[0][0]']      \n",
      "                                                                                                  \n",
      " conv2_block2_out (Activation)  (None, 64, 64, 256)  0           ['conv2_block2_add[0][0]']       \n",
      "                                                                                                  \n",
      " conv2_block3_1_conv (Conv2D)   (None, 64, 64, 64)   16448       ['conv2_block2_out[0][0]']       \n",
      "                                                                                                  \n",
      " conv2_block3_1_bn (BatchNormal  (None, 64, 64, 64)  256         ['conv2_block3_1_conv[0][0]']    \n",
      " ization)                                                                                         \n",
      "                                                                                                  \n",
      " conv2_block3_1_relu (Activatio  (None, 64, 64, 64)  0           ['conv2_block3_1_bn[0][0]']      \n",
      " n)                                                                                               \n",
      "                                                                                                  \n",
      " conv2_block3_2_conv (Conv2D)   (None, 64, 64, 64)   36928       ['conv2_block3_1_relu[0][0]']    \n",
      "                                                                                                  \n",
      " conv2_block3_2_bn (BatchNormal  (None, 64, 64, 64)  256         ['conv2_block3_2_conv[0][0]']    \n",
      " ization)                                                                                         \n",
      "                                                                                                  \n",
      " conv2_block3_2_relu (Activatio  (None, 64, 64, 64)  0           ['conv2_block3_2_bn[0][0]']      \n",
      " n)                                                                                               \n",
      "                                                                                                  \n",
      " conv2_block3_3_conv (Conv2D)   (None, 64, 64, 256)  16640       ['conv2_block3_2_relu[0][0]']    \n",
      "                                                                                                  \n",
      " conv2_block3_3_bn (BatchNormal  (None, 64, 64, 256)  1024       ['conv2_block3_3_conv[0][0]']    \n",
      " ization)                                                                                         \n",
      "                                                                                                  \n",
      " conv2_block3_add (Add)         (None, 64, 64, 256)  0           ['conv2_block2_out[0][0]',       \n",
      "                                                                  'conv2_block3_3_bn[0][0]']      \n",
      "                                                                                                  \n",
      " conv2_block3_out (Activation)  (None, 64, 64, 256)  0           ['conv2_block3_add[0][0]']       \n",
      "                                                                                                  \n",
      " conv3_block1_1_conv (Conv2D)   (None, 32, 32, 128)  32896       ['conv2_block3_out[0][0]']       \n",
      "                                                                                                  \n",
      " conv3_block1_1_bn (BatchNormal  (None, 32, 32, 128)  512        ['conv3_block1_1_conv[0][0]']    \n",
      " ization)                                                                                         \n",
      "                                                                                                  \n",
      " conv3_block1_1_relu (Activatio  (None, 32, 32, 128)  0          ['conv3_block1_1_bn[0][0]']      \n",
      " n)                                                                                               \n",
      "                                                                                                  \n",
      " conv3_block1_2_conv (Conv2D)   (None, 32, 32, 128)  147584      ['conv3_block1_1_relu[0][0]']    \n",
      "                                                                                                  \n",
      " conv3_block1_2_bn (BatchNormal  (None, 32, 32, 128)  512        ['conv3_block1_2_conv[0][0]']    \n",
      " ization)                                                                                         \n",
      "                                                                                                  \n",
      " conv3_block1_2_relu (Activatio  (None, 32, 32, 128)  0          ['conv3_block1_2_bn[0][0]']      \n",
      " n)                                                                                               \n",
      "                                                                                                  \n",
      " conv3_block1_0_conv (Conv2D)   (None, 32, 32, 512)  131584      ['conv2_block3_out[0][0]']       \n",
      "                                                                                                  \n",
      " conv3_block1_3_conv (Conv2D)   (None, 32, 32, 512)  66048       ['conv3_block1_2_relu[0][0]']    \n",
      "                                                                                                  \n",
      " conv3_block1_0_bn (BatchNormal  (None, 32, 32, 512)  2048       ['conv3_block1_0_conv[0][0]']    \n",
      " ization)                                                                                         \n",
      "                                                                                                  \n",
      " conv3_block1_3_bn (BatchNormal  (None, 32, 32, 512)  2048       ['conv3_block1_3_conv[0][0]']    \n",
      " ization)                                                                                         \n",
      "                                                                                                  \n",
      " conv3_block1_add (Add)         (None, 32, 32, 512)  0           ['conv3_block1_0_bn[0][0]',      \n",
      "                                                                  'conv3_block1_3_bn[0][0]']      \n",
      "                                                                                                  \n",
      " conv3_block1_out (Activation)  (None, 32, 32, 512)  0           ['conv3_block1_add[0][0]']       \n",
      "                                                                                                  \n",
      " conv3_block2_1_conv (Conv2D)   (None, 32, 32, 128)  65664       ['conv3_block1_out[0][0]']       \n",
      "                                                                                                  \n",
      " conv3_block2_1_bn (BatchNormal  (None, 32, 32, 128)  512        ['conv3_block2_1_conv[0][0]']    \n",
      " ization)                                                                                         \n",
      "                                                                                                  \n",
      " conv3_block2_1_relu (Activatio  (None, 32, 32, 128)  0          ['conv3_block2_1_bn[0][0]']      \n",
      " n)                                                                                               \n",
      "                                                                                                  \n",
      " conv3_block2_2_conv (Conv2D)   (None, 32, 32, 128)  147584      ['conv3_block2_1_relu[0][0]']    \n",
      "                                                                                                  \n",
      " conv3_block2_2_bn (BatchNormal  (None, 32, 32, 128)  512        ['conv3_block2_2_conv[0][0]']    \n",
      " ization)                                                                                         \n",
      "                                                                                                  \n",
      " conv3_block2_2_relu (Activatio  (None, 32, 32, 128)  0          ['conv3_block2_2_bn[0][0]']      \n",
      " n)                                                                                               \n",
      "                                                                                                  \n",
      " conv3_block2_3_conv (Conv2D)   (None, 32, 32, 512)  66048       ['conv3_block2_2_relu[0][0]']    \n",
      "                                                                                                  \n",
      " conv3_block2_3_bn (BatchNormal  (None, 32, 32, 512)  2048       ['conv3_block2_3_conv[0][0]']    \n",
      " ization)                                                                                         \n",
      "                                                                                                  \n",
      " conv3_block2_add (Add)         (None, 32, 32, 512)  0           ['conv3_block1_out[0][0]',       \n",
      "                                                                  'conv3_block2_3_bn[0][0]']      \n",
      "                                                                                                  \n",
      " conv3_block2_out (Activation)  (None, 32, 32, 512)  0           ['conv3_block2_add[0][0]']       \n",
      "                                                                                                  \n",
      " conv3_block3_1_conv (Conv2D)   (None, 32, 32, 128)  65664       ['conv3_block2_out[0][0]']       \n",
      "                                                                                                  \n",
      " conv3_block3_1_bn (BatchNormal  (None, 32, 32, 128)  512        ['conv3_block3_1_conv[0][0]']    \n",
      " ization)                                                                                         \n",
      "                                                                                                  \n",
      " conv3_block3_1_relu (Activatio  (None, 32, 32, 128)  0          ['conv3_block3_1_bn[0][0]']      \n",
      " n)                                                                                               \n",
      "                                                                                                  \n",
      " conv3_block3_2_conv (Conv2D)   (None, 32, 32, 128)  147584      ['conv3_block3_1_relu[0][0]']    \n",
      "                                                                                                  \n",
      " conv3_block3_2_bn (BatchNormal  (None, 32, 32, 128)  512        ['conv3_block3_2_conv[0][0]']    \n",
      " ization)                                                                                         \n",
      "                                                                                                  \n",
      " conv3_block3_2_relu (Activatio  (None, 32, 32, 128)  0          ['conv3_block3_2_bn[0][0]']      \n",
      " n)                                                                                               \n",
      "                                                                                                  \n",
      " conv3_block3_3_conv (Conv2D)   (None, 32, 32, 512)  66048       ['conv3_block3_2_relu[0][0]']    \n",
      "                                                                                                  \n",
      " conv3_block3_3_bn (BatchNormal  (None, 32, 32, 512)  2048       ['conv3_block3_3_conv[0][0]']    \n",
      " ization)                                                                                         \n",
      "                                                                                                  \n",
      " conv3_block3_add (Add)         (None, 32, 32, 512)  0           ['conv3_block2_out[0][0]',       \n",
      "                                                                  'conv3_block3_3_bn[0][0]']      \n",
      "                                                                                                  \n",
      " conv3_block3_out (Activation)  (None, 32, 32, 512)  0           ['conv3_block3_add[0][0]']       \n",
      "                                                                                                  \n",
      " conv3_block4_1_conv (Conv2D)   (None, 32, 32, 128)  65664       ['conv3_block3_out[0][0]']       \n",
      "                                                                                                  \n",
      " conv3_block4_1_bn (BatchNormal  (None, 32, 32, 128)  512        ['conv3_block4_1_conv[0][0]']    \n",
      " ization)                                                                                         \n",
      "                                                                                                  \n",
      " conv3_block4_1_relu (Activatio  (None, 32, 32, 128)  0          ['conv3_block4_1_bn[0][0]']      \n",
      " n)                                                                                               \n",
      "                                                                                                  \n",
      " conv3_block4_2_conv (Conv2D)   (None, 32, 32, 128)  147584      ['conv3_block4_1_relu[0][0]']    \n",
      "                                                                                                  \n",
      " conv3_block4_2_bn (BatchNormal  (None, 32, 32, 128)  512        ['conv3_block4_2_conv[0][0]']    \n",
      " ization)                                                                                         \n",
      "                                                                                                  \n",
      " conv3_block4_2_relu (Activatio  (None, 32, 32, 128)  0          ['conv3_block4_2_bn[0][0]']      \n",
      " n)                                                                                               \n",
      "                                                                                                  \n",
      " conv3_block4_3_conv (Conv2D)   (None, 32, 32, 512)  66048       ['conv3_block4_2_relu[0][0]']    \n",
      "                                                                                                  \n",
      " conv3_block4_3_bn (BatchNormal  (None, 32, 32, 512)  2048       ['conv3_block4_3_conv[0][0]']    \n",
      " ization)                                                                                         \n",
      "                                                                                                  \n",
      " conv3_block4_add (Add)         (None, 32, 32, 512)  0           ['conv3_block3_out[0][0]',       \n",
      "                                                                  'conv3_block4_3_bn[0][0]']      \n",
      "                                                                                                  \n",
      " conv3_block4_out (Activation)  (None, 32, 32, 512)  0           ['conv3_block4_add[0][0]']       \n",
      "                                                                                                  \n",
      " conv4_block1_1_conv (Conv2D)   (None, 16, 16, 256)  131328      ['conv3_block4_out[0][0]']       \n",
      "                                                                                                  \n",
      " conv4_block1_1_bn (BatchNormal  (None, 16, 16, 256)  1024       ['conv4_block1_1_conv[0][0]']    \n",
      " ization)                                                                                         \n",
      "                                                                                                  \n",
      " conv4_block1_1_relu (Activatio  (None, 16, 16, 256)  0          ['conv4_block1_1_bn[0][0]']      \n",
      " n)                                                                                               \n",
      "                                                                                                  \n",
      " conv4_block1_2_conv (Conv2D)   (None, 16, 16, 256)  590080      ['conv4_block1_1_relu[0][0]']    \n",
      "                                                                                                  \n",
      " conv4_block1_2_bn (BatchNormal  (None, 16, 16, 256)  1024       ['conv4_block1_2_conv[0][0]']    \n",
      " ization)                                                                                         \n",
      "                                                                                                  \n",
      " conv4_block1_2_relu (Activatio  (None, 16, 16, 256)  0          ['conv4_block1_2_bn[0][0]']      \n",
      " n)                                                                                               \n",
      "                                                                                                  \n",
      " conv4_block1_0_conv (Conv2D)   (None, 16, 16, 1024  525312      ['conv3_block4_out[0][0]']       \n",
      "                                )                                                                 \n",
      "                                                                                                  \n",
      " conv4_block1_3_conv (Conv2D)   (None, 16, 16, 1024  263168      ['conv4_block1_2_relu[0][0]']    \n",
      "                                )                                                                 \n",
      "                                                                                                  \n",
      " conv4_block1_0_bn (BatchNormal  (None, 16, 16, 1024  4096       ['conv4_block1_0_conv[0][0]']    \n",
      " ization)                       )                                                                 \n",
      "                                                                                                  \n",
      " conv4_block1_3_bn (BatchNormal  (None, 16, 16, 1024  4096       ['conv4_block1_3_conv[0][0]']    \n",
      " ization)                       )                                                                 \n",
      "                                                                                                  \n",
      " conv4_block1_add (Add)         (None, 16, 16, 1024  0           ['conv4_block1_0_bn[0][0]',      \n",
      "                                )                                 'conv4_block1_3_bn[0][0]']      \n",
      "                                                                                                  \n",
      " conv4_block1_out (Activation)  (None, 16, 16, 1024  0           ['conv4_block1_add[0][0]']       \n",
      "                                )                                                                 \n",
      "                                                                                                  \n",
      " conv4_block2_1_conv (Conv2D)   (None, 16, 16, 256)  262400      ['conv4_block1_out[0][0]']       \n",
      "                                                                                                  \n",
      " conv4_block2_1_bn (BatchNormal  (None, 16, 16, 256)  1024       ['conv4_block2_1_conv[0][0]']    \n",
      " ization)                                                                                         \n",
      "                                                                                                  \n",
      " conv4_block2_1_relu (Activatio  (None, 16, 16, 256)  0          ['conv4_block2_1_bn[0][0]']      \n",
      " n)                                                                                               \n",
      "                                                                                                  \n",
      " conv4_block2_2_conv (Conv2D)   (None, 16, 16, 256)  590080      ['conv4_block2_1_relu[0][0]']    \n",
      "                                                                                                  \n",
      " conv4_block2_2_bn (BatchNormal  (None, 16, 16, 256)  1024       ['conv4_block2_2_conv[0][0]']    \n",
      " ization)                                                                                         \n",
      "                                                                                                  \n",
      " conv4_block2_2_relu (Activatio  (None, 16, 16, 256)  0          ['conv4_block2_2_bn[0][0]']      \n",
      " n)                                                                                               \n",
      "                                                                                                  \n",
      " conv4_block2_3_conv (Conv2D)   (None, 16, 16, 1024  263168      ['conv4_block2_2_relu[0][0]']    \n",
      "                                )                                                                 \n",
      "                                                                                                  \n",
      " conv4_block2_3_bn (BatchNormal  (None, 16, 16, 1024  4096       ['conv4_block2_3_conv[0][0]']    \n",
      " ization)                       )                                                                 \n",
      "                                                                                                  \n",
      " conv4_block2_add (Add)         (None, 16, 16, 1024  0           ['conv4_block1_out[0][0]',       \n",
      "                                )                                 'conv4_block2_3_bn[0][0]']      \n",
      "                                                                                                  \n",
      " conv4_block2_out (Activation)  (None, 16, 16, 1024  0           ['conv4_block2_add[0][0]']       \n",
      "                                )                                                                 \n",
      "                                                                                                  \n",
      " conv4_block3_1_conv (Conv2D)   (None, 16, 16, 256)  262400      ['conv4_block2_out[0][0]']       \n",
      "                                                                                                  \n",
      " conv4_block3_1_bn (BatchNormal  (None, 16, 16, 256)  1024       ['conv4_block3_1_conv[0][0]']    \n",
      " ization)                                                                                         \n",
      "                                                                                                  \n",
      " conv4_block3_1_relu (Activatio  (None, 16, 16, 256)  0          ['conv4_block3_1_bn[0][0]']      \n",
      " n)                                                                                               \n",
      "                                                                                                  \n",
      " conv4_block3_2_conv (Conv2D)   (None, 16, 16, 256)  590080      ['conv4_block3_1_relu[0][0]']    \n",
      "                                                                                                  \n",
      " conv4_block3_2_bn (BatchNormal  (None, 16, 16, 256)  1024       ['conv4_block3_2_conv[0][0]']    \n",
      " ization)                                                                                         \n",
      "                                                                                                  \n",
      " conv4_block3_2_relu (Activatio  (None, 16, 16, 256)  0          ['conv4_block3_2_bn[0][0]']      \n",
      " n)                                                                                               \n",
      "                                                                                                  \n",
      " conv4_block3_3_conv (Conv2D)   (None, 16, 16, 1024  263168      ['conv4_block3_2_relu[0][0]']    \n",
      "                                )                                                                 \n",
      "                                                                                                  \n",
      " conv4_block3_3_bn (BatchNormal  (None, 16, 16, 1024  4096       ['conv4_block3_3_conv[0][0]']    \n",
      " ization)                       )                                                                 \n",
      "                                                                                                  \n",
      " conv4_block3_add (Add)         (None, 16, 16, 1024  0           ['conv4_block2_out[0][0]',       \n",
      "                                )                                 'conv4_block3_3_bn[0][0]']      \n",
      "                                                                                                  \n",
      " conv4_block3_out (Activation)  (None, 16, 16, 1024  0           ['conv4_block3_add[0][0]']       \n",
      "                                )                                                                 \n",
      "                                                                                                  \n",
      " conv4_block4_1_conv (Conv2D)   (None, 16, 16, 256)  262400      ['conv4_block3_out[0][0]']       \n",
      "                                                                                                  \n",
      " conv4_block4_1_bn (BatchNormal  (None, 16, 16, 256)  1024       ['conv4_block4_1_conv[0][0]']    \n",
      " ization)                                                                                         \n",
      "                                                                                                  \n",
      " conv4_block4_1_relu (Activatio  (None, 16, 16, 256)  0          ['conv4_block4_1_bn[0][0]']      \n",
      " n)                                                                                               \n",
      "                                                                                                  \n",
      " conv4_block4_2_conv (Conv2D)   (None, 16, 16, 256)  590080      ['conv4_block4_1_relu[0][0]']    \n",
      "                                                                                                  \n",
      " conv4_block4_2_bn (BatchNormal  (None, 16, 16, 256)  1024       ['conv4_block4_2_conv[0][0]']    \n",
      " ization)                                                                                         \n",
      "                                                                                                  \n",
      " conv4_block4_2_relu (Activatio  (None, 16, 16, 256)  0          ['conv4_block4_2_bn[0][0]']      \n",
      " n)                                                                                               \n",
      "                                                                                                  \n",
      " conv4_block4_3_conv (Conv2D)   (None, 16, 16, 1024  263168      ['conv4_block4_2_relu[0][0]']    \n",
      "                                )                                                                 \n",
      "                                                                                                  \n",
      " conv4_block4_3_bn (BatchNormal  (None, 16, 16, 1024  4096       ['conv4_block4_3_conv[0][0]']    \n",
      " ization)                       )                                                                 \n",
      "                                                                                                  \n",
      " conv4_block4_add (Add)         (None, 16, 16, 1024  0           ['conv4_block3_out[0][0]',       \n",
      "                                )                                 'conv4_block4_3_bn[0][0]']      \n",
      "                                                                                                  \n",
      " conv4_block4_out (Activation)  (None, 16, 16, 1024  0           ['conv4_block4_add[0][0]']       \n",
      "                                )                                                                 \n",
      "                                                                                                  \n",
      " conv4_block5_1_conv (Conv2D)   (None, 16, 16, 256)  262400      ['conv4_block4_out[0][0]']       \n",
      "                                                                                                  \n",
      " conv4_block5_1_bn (BatchNormal  (None, 16, 16, 256)  1024       ['conv4_block5_1_conv[0][0]']    \n",
      " ization)                                                                                         \n",
      "                                                                                                  \n",
      " conv4_block5_1_relu (Activatio  (None, 16, 16, 256)  0          ['conv4_block5_1_bn[0][0]']      \n",
      " n)                                                                                               \n",
      "                                                                                                  \n",
      " conv4_block5_2_conv (Conv2D)   (None, 16, 16, 256)  590080      ['conv4_block5_1_relu[0][0]']    \n",
      "                                                                                                  \n",
      " conv4_block5_2_bn (BatchNormal  (None, 16, 16, 256)  1024       ['conv4_block5_2_conv[0][0]']    \n",
      " ization)                                                                                         \n",
      "                                                                                                  \n",
      " conv4_block5_2_relu (Activatio  (None, 16, 16, 256)  0          ['conv4_block5_2_bn[0][0]']      \n",
      " n)                                                                                               \n",
      "                                                                                                  \n",
      " conv4_block5_3_conv (Conv2D)   (None, 16, 16, 1024  263168      ['conv4_block5_2_relu[0][0]']    \n",
      "                                )                                                                 \n",
      "                                                                                                  \n",
      " conv4_block5_3_bn (BatchNormal  (None, 16, 16, 1024  4096       ['conv4_block5_3_conv[0][0]']    \n",
      " ization)                       )                                                                 \n",
      "                                                                                                  \n",
      " conv4_block5_add (Add)         (None, 16, 16, 1024  0           ['conv4_block4_out[0][0]',       \n",
      "                                )                                 'conv4_block5_3_bn[0][0]']      \n",
      "                                                                                                  \n",
      " conv4_block5_out (Activation)  (None, 16, 16, 1024  0           ['conv4_block5_add[0][0]']       \n",
      "                                )                                                                 \n",
      "                                                                                                  \n",
      " conv4_block6_1_conv (Conv2D)   (None, 16, 16, 256)  262400      ['conv4_block5_out[0][0]']       \n",
      "                                                                                                  \n",
      " conv4_block6_1_bn (BatchNormal  (None, 16, 16, 256)  1024       ['conv4_block6_1_conv[0][0]']    \n",
      " ization)                                                                                         \n",
      "                                                                                                  \n",
      " conv4_block6_1_relu (Activatio  (None, 16, 16, 256)  0          ['conv4_block6_1_bn[0][0]']      \n",
      " n)                                                                                               \n",
      "                                                                                                  \n",
      " conv4_block6_2_conv (Conv2D)   (None, 16, 16, 256)  590080      ['conv4_block6_1_relu[0][0]']    \n",
      "                                                                                                  \n",
      " conv4_block6_2_bn (BatchNormal  (None, 16, 16, 256)  1024       ['conv4_block6_2_conv[0][0]']    \n",
      " ization)                                                                                         \n",
      "                                                                                                  \n",
      " conv4_block6_2_relu (Activatio  (None, 16, 16, 256)  0          ['conv4_block6_2_bn[0][0]']      \n",
      " n)                                                                                               \n",
      "                                                                                                  \n",
      " conv4_block6_3_conv (Conv2D)   (None, 16, 16, 1024  263168      ['conv4_block6_2_relu[0][0]']    \n",
      "                                )                                                                 \n",
      "                                                                                                  \n",
      " conv4_block6_3_bn (BatchNormal  (None, 16, 16, 1024  4096       ['conv4_block6_3_conv[0][0]']    \n",
      " ization)                       )                                                                 \n",
      "                                                                                                  \n",
      " conv4_block6_add (Add)         (None, 16, 16, 1024  0           ['conv4_block5_out[0][0]',       \n",
      "                                )                                 'conv4_block6_3_bn[0][0]']      \n",
      "                                                                                                  \n",
      " conv4_block6_out (Activation)  (None, 16, 16, 1024  0           ['conv4_block6_add[0][0]']       \n",
      "                                )                                                                 \n",
      "                                                                                                  \n",
      " conv5_block1_1_conv (Conv2D)   (None, 8, 8, 512)    524800      ['conv4_block6_out[0][0]']       \n",
      "                                                                                                  \n",
      " conv5_block1_1_bn (BatchNormal  (None, 8, 8, 512)   2048        ['conv5_block1_1_conv[0][0]']    \n",
      " ization)                                                                                         \n",
      "                                                                                                  \n",
      " conv5_block1_1_relu (Activatio  (None, 8, 8, 512)   0           ['conv5_block1_1_bn[0][0]']      \n",
      " n)                                                                                               \n",
      "                                                                                                  \n",
      " conv5_block1_2_conv (Conv2D)   (None, 8, 8, 512)    2359808     ['conv5_block1_1_relu[0][0]']    \n",
      "                                                                                                  \n",
      " conv5_block1_2_bn (BatchNormal  (None, 8, 8, 512)   2048        ['conv5_block1_2_conv[0][0]']    \n",
      " ization)                                                                                         \n",
      "                                                                                                  \n",
      " conv5_block1_2_relu (Activatio  (None, 8, 8, 512)   0           ['conv5_block1_2_bn[0][0]']      \n",
      " n)                                                                                               \n",
      "                                                                                                  \n",
      " conv5_block1_0_conv (Conv2D)   (None, 8, 8, 2048)   2099200     ['conv4_block6_out[0][0]']       \n",
      "                                                                                                  \n",
      " conv5_block1_3_conv (Conv2D)   (None, 8, 8, 2048)   1050624     ['conv5_block1_2_relu[0][0]']    \n",
      "                                                                                                  \n",
      " conv5_block1_0_bn (BatchNormal  (None, 8, 8, 2048)  8192        ['conv5_block1_0_conv[0][0]']    \n",
      " ization)                                                                                         \n",
      "                                                                                                  \n",
      " conv5_block1_3_bn (BatchNormal  (None, 8, 8, 2048)  8192        ['conv5_block1_3_conv[0][0]']    \n",
      " ization)                                                                                         \n",
      "                                                                                                  \n",
      " conv5_block1_add (Add)         (None, 8, 8, 2048)   0           ['conv5_block1_0_bn[0][0]',      \n",
      "                                                                  'conv5_block1_3_bn[0][0]']      \n",
      "                                                                                                  \n",
      " conv5_block1_out (Activation)  (None, 8, 8, 2048)   0           ['conv5_block1_add[0][0]']       \n",
      "                                                                                                  \n",
      " conv5_block2_1_conv (Conv2D)   (None, 8, 8, 512)    1049088     ['conv5_block1_out[0][0]']       \n",
      "                                                                                                  \n",
      " conv5_block2_1_bn (BatchNormal  (None, 8, 8, 512)   2048        ['conv5_block2_1_conv[0][0]']    \n",
      " ization)                                                                                         \n",
      "                                                                                                  \n",
      " conv5_block2_1_relu (Activatio  (None, 8, 8, 512)   0           ['conv5_block2_1_bn[0][0]']      \n",
      " n)                                                                                               \n",
      "                                                                                                  \n",
      " conv5_block2_2_conv (Conv2D)   (None, 8, 8, 512)    2359808     ['conv5_block2_1_relu[0][0]']    \n",
      "                                                                                                  \n",
      " conv5_block2_2_bn (BatchNormal  (None, 8, 8, 512)   2048        ['conv5_block2_2_conv[0][0]']    \n",
      " ization)                                                                                         \n",
      "                                                                                                  \n",
      " conv5_block2_2_relu (Activatio  (None, 8, 8, 512)   0           ['conv5_block2_2_bn[0][0]']      \n",
      " n)                                                                                               \n",
      "                                                                                                  \n",
      " conv5_block2_3_conv (Conv2D)   (None, 8, 8, 2048)   1050624     ['conv5_block2_2_relu[0][0]']    \n",
      "                                                                                                  \n",
      " conv5_block2_3_bn (BatchNormal  (None, 8, 8, 2048)  8192        ['conv5_block2_3_conv[0][0]']    \n",
      " ization)                                                                                         \n",
      "                                                                                                  \n",
      " conv5_block2_add (Add)         (None, 8, 8, 2048)   0           ['conv5_block1_out[0][0]',       \n",
      "                                                                  'conv5_block2_3_bn[0][0]']      \n",
      "                                                                                                  \n",
      " conv5_block2_out (Activation)  (None, 8, 8, 2048)   0           ['conv5_block2_add[0][0]']       \n",
      "                                                                                                  \n",
      " conv5_block3_1_conv (Conv2D)   (None, 8, 8, 512)    1049088     ['conv5_block2_out[0][0]']       \n",
      "                                                                                                  \n",
      " conv5_block3_1_bn (BatchNormal  (None, 8, 8, 512)   2048        ['conv5_block3_1_conv[0][0]']    \n",
      " ization)                                                                                         \n",
      "                                                                                                  \n",
      " conv5_block3_1_relu (Activatio  (None, 8, 8, 512)   0           ['conv5_block3_1_bn[0][0]']      \n",
      " n)                                                                                               \n",
      "                                                                                                  \n",
      " conv5_block3_2_conv (Conv2D)   (None, 8, 8, 512)    2359808     ['conv5_block3_1_relu[0][0]']    \n",
      "                                                                                                  \n",
      " conv5_block3_2_bn (BatchNormal  (None, 8, 8, 512)   2048        ['conv5_block3_2_conv[0][0]']    \n",
      " ization)                                                                                         \n",
      "                                                                                                  \n",
      " conv5_block3_2_relu (Activatio  (None, 8, 8, 512)   0           ['conv5_block3_2_bn[0][0]']      \n",
      " n)                                                                                               \n",
      "                                                                                                  \n",
      " conv5_block3_3_conv (Conv2D)   (None, 8, 8, 2048)   1050624     ['conv5_block3_2_relu[0][0]']    \n",
      "                                                                                                  \n",
      " conv5_block3_3_bn (BatchNormal  (None, 8, 8, 2048)  8192        ['conv5_block3_3_conv[0][0]']    \n",
      " ization)                                                                                         \n",
      "                                                                                                  \n",
      " conv5_block3_add (Add)         (None, 8, 8, 2048)   0           ['conv5_block2_out[0][0]',       \n",
      "                                                                  'conv5_block3_3_bn[0][0]']      \n",
      "                                                                                                  \n",
      " conv5_block3_out (Activation)  (None, 8, 8, 2048)   0           ['conv5_block3_add[0][0]']       \n",
      "                                                                                                  \n",
      " global_average_pooling2d_6 (Gl  (None, 2048)        0           ['conv5_block3_out[0][0]']       \n",
      " obalAveragePooling2D)                                                                            \n",
      "                                                                                                  \n",
      " dense_12 (Dense)               (None, 512)          1049088     ['global_average_pooling2d_6[0][0\n",
      "                                                                 ]']                              \n",
      "                                                                                                  \n",
      " dropout_32 (Dropout)           (None, 512)          0           ['dense_12[0][0]']               \n",
      "                                                                                                  \n",
      " dense_13 (Dense)               (None, 20)           10260       ['dropout_32[0][0]']             \n",
      "                                                                                                  \n",
      "==================================================================================================\n",
      "Total params: 24,647,060\n",
      "Trainable params: 24,593,940\n",
      "Non-trainable params: 53,120\n",
      "__________________________________________________________________________________________________\n"
     ]
    }
   ],
   "source": [
    "# Print Model Summary\n",
    "custom_resnet.summary()\n",
    "\n",
    "#plot_model(model, to_file='model2.png', show_layer_names=True, show_shapes=True, rankdir='TB')\n",
    "#SVG(model_to_dot(model, show_layer_names=True, show_shapes=True, rankdir='TB').create(prog='dot', format='svg'))"
   ]
  },
  {
   "cell_type": "code",
   "execution_count": null,
   "metadata": {
    "tags": []
   },
   "outputs": [
    {
     "name": "stdout",
     "output_type": "stream",
     "text": [
      "Epoch 1/200\n",
      "35/35 [==============================] - 33s 929ms/step - loss: 0.0016 - accuracy: 0.9553 - val_loss: 3.2435 - val_accuracy: 0.0645 - lr: 1.0000e-04\n",
      "Epoch 2/200\n",
      "35/35 [==============================] - 32s 906ms/step - loss: 0.0015 - accuracy: 0.9517 - val_loss: 3.2943 - val_accuracy: 0.0472 - lr: 1.0000e-04\n",
      "Epoch 3/200\n",
      "35/35 [==============================] - 32s 900ms/step - loss: 7.6242e-04 - accuracy: 0.9765 - val_loss: 3.4340 - val_accuracy: 0.0472 - lr: 1.0000e-04\n",
      "Epoch 4/200\n",
      "35/35 [==============================] - 32s 891ms/step - loss: 4.4345e-04 - accuracy: 0.9878 - val_loss: 3.5498 - val_accuracy: 0.0472 - lr: 1.0000e-04\n",
      "Epoch 5/200\n",
      "35/35 [==============================] - 32s 902ms/step - loss: 5.7534e-04 - accuracy: 0.9801 - val_loss: 4.2138 - val_accuracy: 0.0676 - lr: 1.0000e-04\n",
      "Epoch 6/200\n",
      "35/35 [==============================] - 32s 892ms/step - loss: 0.0013 - accuracy: 0.9553 - val_loss: 3.4516 - val_accuracy: 0.0330 - lr: 1.0000e-04\n",
      "Epoch 7/200\n",
      "35/35 [==============================] - 32s 888ms/step - loss: 6.1874e-04 - accuracy: 0.9815 - val_loss: 3.4282 - val_accuracy: 0.0330 - lr: 1.0000e-04\n",
      "Epoch 8/200\n",
      "35/35 [==============================] - 32s 897ms/step - loss: 3.8778e-04 - accuracy: 0.9878 - val_loss: 3.3537 - val_accuracy: 0.0487 - lr: 1.0000e-04\n",
      "Epoch 9/200\n",
      "35/35 [==============================] - 32s 905ms/step - loss: 4.9099e-04 - accuracy: 0.9874 - val_loss: 4.3213 - val_accuracy: 0.0566 - lr: 1.0000e-04\n",
      "Epoch 10/200\n",
      "35/35 [==============================] - 35s 982ms/step - loss: 4.8398e-04 - accuracy: 0.9856 - val_loss: 4.1757 - val_accuracy: 0.0550 - lr: 1.0000e-04\n",
      "Epoch 11/200\n",
      "35/35 [==============================] - 32s 889ms/step - loss: 3.9825e-04 - accuracy: 0.9856 - val_loss: 3.4171 - val_accuracy: 0.0597 - lr: 1.0000e-04\n",
      "Epoch 12/200\n",
      "35/35 [==============================] - 32s 898ms/step - loss: 2.0857e-04 - accuracy: 0.9928 - val_loss: 3.2451 - val_accuracy: 0.0692 - lr: 1.0000e-04\n",
      "Epoch 13/200\n",
      "35/35 [==============================] - 32s 891ms/step - loss: 2.6704e-04 - accuracy: 0.9910 - val_loss: 3.1507 - val_accuracy: 0.0881 - lr: 1.0000e-04\n",
      "Epoch 14/200\n",
      "35/35 [==============================] - 32s 925ms/step - loss: 1.8692e-04 - accuracy: 0.9941 - val_loss: 2.9274 - val_accuracy: 0.1274 - lr: 1.0000e-04\n",
      "Epoch 15/200\n",
      "35/35 [==============================] - 32s 897ms/step - loss: 8.5815e-05 - accuracy: 0.9977 - val_loss: 2.7672 - val_accuracy: 0.1635 - lr: 1.0000e-04\n",
      "Epoch 16/200\n",
      "35/35 [==============================] - 32s 888ms/step - loss: 2.4945e-04 - accuracy: 0.9914 - val_loss: 2.7859 - val_accuracy: 0.2060 - lr: 1.0000e-04\n",
      "Epoch 17/200\n",
      "35/35 [==============================] - 32s 884ms/step - loss: 2.7122e-04 - accuracy: 0.9905 - val_loss: 2.4061 - val_accuracy: 0.3270 - lr: 1.0000e-04\n",
      "Epoch 18/200\n",
      "35/35 [==============================] - 32s 904ms/step - loss: 3.3348e-04 - accuracy: 0.9896 - val_loss: 2.3917 - val_accuracy: 0.3428 - lr: 1.0000e-04\n",
      "Epoch 19/200\n",
      "35/35 [==============================] - 32s 886ms/step - loss: 2.4570e-04 - accuracy: 0.9919 - val_loss: 2.0816 - val_accuracy: 0.4403 - lr: 1.0000e-04\n",
      "Epoch 20/200\n",
      "35/35 [==============================] - 33s 929ms/step - loss: 2.0910e-04 - accuracy: 0.9919 - val_loss: 1.7635 - val_accuracy: 0.5314 - lr: 1.0000e-04\n",
      "Epoch 21/200\n",
      "35/35 [==============================] - 32s 905ms/step - loss: 2.0093e-04 - accuracy: 0.9937 - val_loss: 1.7349 - val_accuracy: 0.5959 - lr: 1.0000e-04\n",
      "Epoch 22/200\n",
      "35/35 [==============================] - 33s 968ms/step - loss: 1.9903e-04 - accuracy: 0.9937 - val_loss: 0.8137 - val_accuracy: 0.7862 - lr: 1.0000e-04\n",
      "Epoch 23/200\n",
      "35/35 [==============================] - 33s 916ms/step - loss: 3.9595e-04 - accuracy: 0.9883 - val_loss: 1.2524 - val_accuracy: 0.7374 - lr: 1.0000e-04\n",
      "Epoch 24/200\n",
      "35/35 [==============================] - 33s 921ms/step - loss: 3.5438e-04 - accuracy: 0.9896 - val_loss: 1.0918 - val_accuracy: 0.7296 - lr: 1.0000e-04\n",
      "Epoch 25/200\n",
      "35/35 [==============================] - 34s 959ms/step - loss: 3.5817e-04 - accuracy: 0.9887 - val_loss: 1.2685 - val_accuracy: 0.7327 - lr: 1.0000e-04\n",
      "Epoch 26/200\n",
      "35/35 [==============================] - 33s 935ms/step - loss: 4.4878e-04 - accuracy: 0.9860 - val_loss: 0.7799 - val_accuracy: 0.8396 - lr: 1.0000e-04\n",
      "Epoch 27/200\n",
      "35/35 [==============================] - 33s 919ms/step - loss: 3.3792e-04 - accuracy: 0.9901 - val_loss: 0.7910 - val_accuracy: 0.8318 - lr: 1.0000e-04\n",
      "Epoch 28/200\n",
      "35/35 [==============================] - 33s 927ms/step - loss: 2.8282e-04 - accuracy: 0.9883 - val_loss: 0.3579 - val_accuracy: 0.9167 - lr: 1.0000e-04\n",
      "Epoch 29/200\n",
      "35/35 [==============================] - 33s 927ms/step - loss: 2.5133e-04 - accuracy: 0.9914 - val_loss: 0.2552 - val_accuracy: 0.9418 - lr: 1.0000e-04\n",
      "Epoch 30/200\n",
      "35/35 [==============================] - 33s 923ms/step - loss: 2.5625e-04 - accuracy: 0.9910 - val_loss: 0.2520 - val_accuracy: 0.9403 - lr: 1.0000e-04\n",
      "Epoch 31/200\n",
      "35/35 [==============================] - 34s 940ms/step - loss: 4.1331e-04 - accuracy: 0.9874 - val_loss: 0.3394 - val_accuracy: 0.9308 - lr: 1.0000e-04\n",
      "Epoch 32/200\n",
      "35/35 [==============================] - 33s 921ms/step - loss: 6.2183e-04 - accuracy: 0.9801 - val_loss: 0.4807 - val_accuracy: 0.9072 - lr: 1.0000e-04\n",
      "Epoch 33/200\n",
      "35/35 [==============================] - 33s 911ms/step - loss: 5.1869e-04 - accuracy: 0.9842 - val_loss: 0.3494 - val_accuracy: 0.9182 - lr: 1.0000e-04\n",
      "Epoch 34/200\n",
      "35/35 [==============================] - 33s 916ms/step - loss: 3.0870e-04 - accuracy: 0.9901 - val_loss: 0.2968 - val_accuracy: 0.9308 - lr: 1.0000e-04\n",
      "Epoch 35/200\n",
      "35/35 [==============================] - 33s 910ms/step - loss: 4.1336e-04 - accuracy: 0.9856 - val_loss: 0.2784 - val_accuracy: 0.9340 - lr: 1.0000e-04\n",
      "Epoch 36/200\n",
      "35/35 [==============================] - 33s 921ms/step - loss: 2.6724e-04 - accuracy: 0.9923 - val_loss: 0.3080 - val_accuracy: 0.9355 - lr: 1.0000e-04\n",
      "Epoch 37/200\n",
      "35/35 [==============================] - 33s 911ms/step - loss: 7.0963e-04 - accuracy: 0.9801 - val_loss: 0.4609 - val_accuracy: 0.9072 - lr: 1.0000e-04\n",
      "Epoch 38/200\n",
      "35/35 [==============================] - 34s 937ms/step - loss: 5.7600e-04 - accuracy: 0.9842 - val_loss: 1.3104 - val_accuracy: 0.7531 - lr: 1.0000e-04\n",
      "Epoch 39/200\n",
      "35/35 [==============================] - 33s 922ms/step - loss: 0.0015 - accuracy: 0.9576 - val_loss: 0.5991 - val_accuracy: 0.8475 - lr: 1.0000e-04\n",
      "Epoch 40/200\n",
      "35/35 [==============================] - 33s 920ms/step - loss: 6.1330e-04 - accuracy: 0.9792 - val_loss: 0.3637 - val_accuracy: 0.9308 - lr: 1.0000e-04\n",
      "Epoch 41/200\n",
      "35/35 [==============================] - 33s 918ms/step - loss: 2.2332e-04 - accuracy: 0.9910 - val_loss: 0.2999 - val_accuracy: 0.9355 - lr: 1.0000e-04\n",
      "Epoch 42/200\n",
      "35/35 [==============================] - 32s 895ms/step - loss: 1.8354e-04 - accuracy: 0.9928 - val_loss: 0.3111 - val_accuracy: 0.9450 - lr: 1.0000e-04\n",
      "Epoch 43/200\n",
      "35/35 [==============================] - 33s 914ms/step - loss: 1.6132e-04 - accuracy: 0.9937 - val_loss: 0.2499 - val_accuracy: 0.9481 - lr: 1.0000e-04\n",
      "Epoch 44/200\n",
      "35/35 [==============================] - 33s 926ms/step - loss: 1.8389e-04 - accuracy: 0.9937 - val_loss: 0.2424 - val_accuracy: 0.9497 - lr: 1.0000e-04\n",
      "Epoch 45/200\n",
      "35/35 [==============================] - 33s 923ms/step - loss: 9.5046e-04 - accuracy: 0.9833 - val_loss: 1.2456 - val_accuracy: 0.8050 - lr: 1.0000e-04\n",
      "Epoch 46/200\n",
      "35/35 [==============================] - 33s 925ms/step - loss: 7.7486e-04 - accuracy: 0.9774 - val_loss: 0.4240 - val_accuracy: 0.9057 - lr: 1.0000e-04\n",
      "Epoch 47/200\n",
      "35/35 [==============================] - 36s 1s/step - loss: 4.9578e-04 - accuracy: 0.9833 - val_loss: 0.8532 - val_accuracy: 0.8711 - lr: 1.0000e-04\n",
      "Epoch 48/200\n",
      "35/35 [==============================] - 33s 960ms/step - loss: 6.3552e-04 - accuracy: 0.9833 - val_loss: 0.3486 - val_accuracy: 0.9292 - lr: 1.0000e-04\n",
      "Epoch 49/200\n",
      "35/35 [==============================] - 33s 929ms/step - loss: 3.1377e-04 - accuracy: 0.9910 - val_loss: 0.3357 - val_accuracy: 0.9214 - lr: 1.0000e-04\n",
      "Epoch 50/200\n",
      "35/35 [==============================] - 33s 923ms/step - loss: 2.2064e-04 - accuracy: 0.9955 - val_loss: 0.3589 - val_accuracy: 0.9245 - lr: 1.0000e-04\n",
      "Epoch 51/200\n",
      "35/35 [==============================] - 33s 916ms/step - loss: 2.9019e-04 - accuracy: 0.9932 - val_loss: 0.2917 - val_accuracy: 0.9418 - lr: 1.0000e-04\n",
      "Epoch 52/200\n",
      "35/35 [==============================] - 34s 943ms/step - loss: 1.4925e-04 - accuracy: 0.9946 - val_loss: 0.2779 - val_accuracy: 0.9465 - lr: 1.0000e-05\n",
      "Epoch 53/200\n",
      "35/35 [==============================] - 34s 942ms/step - loss: 1.3982e-04 - accuracy: 0.9946 - val_loss: 0.2711 - val_accuracy: 0.9481 - lr: 1.0000e-05\n",
      "Epoch 54/200\n",
      "35/35 [==============================] - 33s 915ms/step - loss: 1.5180e-04 - accuracy: 0.9964 - val_loss: 0.2853 - val_accuracy: 0.9465 - lr: 1.0000e-05\n",
      "Epoch 55/200\n",
      "35/35 [==============================] - 33s 930ms/step - loss: 1.6593e-04 - accuracy: 0.9950 - val_loss: 0.2775 - val_accuracy: 0.9497 - lr: 1.0000e-05\n",
      "Epoch 56/200\n",
      "35/35 [==============================] - 33s 928ms/step - loss: 1.0021e-04 - accuracy: 0.9973 - val_loss: 0.2740 - val_accuracy: 0.9481 - lr: 1.0000e-05\n",
      "Epoch 57/200\n",
      "35/35 [==============================] - 33s 918ms/step - loss: 8.9400e-05 - accuracy: 0.9973 - val_loss: 0.2688 - val_accuracy: 0.9497 - lr: 1.0000e-05\n",
      "Epoch 58/200\n",
      "35/35 [==============================] - 34s 939ms/step - loss: 1.3387e-04 - accuracy: 0.9968 - val_loss: 0.2605 - val_accuracy: 0.9481 - lr: 1.0000e-05\n",
      "Epoch 59/200\n",
      "35/35 [==============================] - 33s 932ms/step - loss: 7.7035e-05 - accuracy: 0.9982 - val_loss: 0.2645 - val_accuracy: 0.9481 - lr: 1.0000e-05\n"
     ]
    },
    {
     "data": {
      "text/plain": [
       "<keras.callbacks.History at 0x7f4cf86b2a30>"
      ]
     },
     "execution_count": 60,
     "metadata": {},
     "output_type": "execute_result"
    }
   ],
   "source": [
    "from keras.callbacks import EarlyStopping, LearningRateScheduler\n",
    "import numpy as np\n",
    "\n",
    "# Define early stopping criteria\n",
    "early_stopping = EarlyStopping(monitor='val_loss', patience=15, restore_best_weights=True)\n",
    "\n",
    "# Define learning rate schedule\n",
    "def lr_schedule(epoch):\n",
    "    lr = 1e-4  # Initial learning rate decreased to 1e-4\n",
    "    if epoch > 50:\n",
    "        lr *= 0.1  # Will decrease learning rate after 50 epochs\n",
    "    return lr\n",
    "\n",
    "lr_scheduler = LearningRateScheduler(lr_schedule)\n",
    "\n",
    "# Train the model with early stopping and learning rate schedule\n",
    "custom_resnet.fit(\n",
    "    train_generator,\n",
    "    epochs=200,\n",
    "    validation_data=val_generator,\n",
    "    class_weight=class_weights,\n",
    "    callbacks=[early_stopping, lr_scheduler]\n",
    ")\n"
   ]
  },
  {
   "cell_type": "code",
   "execution_count": null,
   "metadata": {},
   "outputs": [],
   "source": [
    "# from tensorflow.keras.callbacks import LearningRateScheduler\n",
    "# from tensorflow.keras.optimizers import SGD\n",
    "\n",
    "# def cosine_annealing(epoch, lr_max=0.01, lr_min=1e-6, epochs=200):\n",
    "#     lr = lr_min + 0.5 * (lr_max - lr_min) * (1 + np.cos(epoch / epochs * np.pi))\n",
    "#     return lr\n",
    "\n",
    "# lr_scheduler = LearningRateScheduler(cosine_annealing)\n",
    "\n",
    "# optimizer = SGD(lr=0.01)\n",
    "# model.compile(optimizer=optimizer, loss='categorical_crossentropy', metrics=['accuracy'])\n",
    "\n",
    "# model.fit(train_generator,\n",
    "#           epochs=200,\n",
    "#           validation_data=val_generator,\n",
    "#           callbacks=[lr_scheduler])"
   ]
  },
  {
   "cell_type": "code",
   "execution_count": 62,
   "metadata": {
    "id": "tjSbOZc4U12S",
    "tags": []
   },
   "outputs": [],
   "source": [
    "# Form the Model\n",
    "# Save model weights after training\n",
    "custom_resnet.save_weights('custom_resnet_model_weights.h5')"
   ]
  },
  {
   "cell_type": "code",
   "execution_count": 67,
   "metadata": {
    "tags": []
   },
   "outputs": [
    {
     "name": "stdout",
     "output_type": "stream",
     "text": [
      "10/10 [==============================] - 1s 108ms/step - loss: 0.2268 - accuracy: 0.9682\n",
      "Test loss: 0.22683264315128326\n",
      "Test accuracy: 0.9681528806686401\n",
      "20/20 [==============================] - 2s 107ms/step - loss: 0.2424 - accuracy: 0.9497\n",
      "Val loss: 0.2424217313528061\n",
      "Val accuracy: 0.9496855139732361\n",
      "70/70 [==============================] - 7s 107ms/step - loss: 0.0025 - accuracy: 0.9986\n",
      "Train loss: 0.0025208028964698315\n",
      "Train accuracy: 0.9986456036567688\n"
     ]
    }
   ],
   "source": [
    "scores = custom_resnet.evaluate(X_test_resized, y_test, verbose=1)\n",
    "print('Test loss:', scores[0])\n",
    "print('Test accuracy:', scores[1])\n",
    "\n",
    "\n",
    "scores = custom_resnet.evaluate(X_val_resized, y_val, verbose=1)\n",
    "print('Val loss:', scores[0])\n",
    "print('Val accuracy:', scores[1])\n",
    "\n",
    "\n",
    "scores = custom_resnet.evaluate(X_train_resized, y_train, verbose=1)\n",
    "print('Train loss:', scores[0])\n",
    "print('Train accuracy:', scores[1])"
   ]
  },
  {
   "cell_type": "markdown",
   "metadata": {
    "id": "0pD3HSb4AjPr"
   },
   "source": [
    "## Plotting the Val and Train loss curve"
   ]
  },
  {
   "cell_type": "code",
   "execution_count": 61,
   "metadata": {
    "colab": {
     "base_uri": "https://localhost:8080/",
     "height": 469
    },
    "id": "HKejCK_AeaEC",
    "outputId": "314948d2-7108-48b6-f650-8cb63aff3e44",
    "tags": []
   },
   "outputs": [
    {
     "data": {
      "image/png": "[encoded data removed]",
      "text/plain": [
       "<Figure size 1200x800 with 2 Axes>"
      ]
     },
     "metadata": {},
     "output_type": "display_data"
    }
   ],
   "source": [
    "\n",
    "# # Load weights into the model\n",
    "# custom_resnet.load_weights('model_weights.h5')\n",
    "\n",
    "# # Compile the model (ensure to compile with the same configuration used during training)\n",
    "# custom_resnet.compile(optimizer='adam', loss='sparse_categorical_crossentropy', metrics=['accuracy'])\n",
    "\n",
    "# ## Plot the Training and Validation loss\n",
    "# import matplotlib.pyplot as plt\n",
    "\n",
    "acc = custom_resnet.history.history['accuracy']\n",
    "val_acc = custom_resnet.history.history['val_accuracy']\n",
    "loss = custom_resnet.history.history['loss']\n",
    "val_loss = custom_resnet.history.history['val_loss']\n",
    "\n",
    "epochs = range(len(acc))\n",
    "\n",
    "plt.figure(figsize=(12, 8))\n",
    "plt.subplot(1, 2, 1)\n",
    "plt.plot(epochs, acc, 'bo', label='Training accuracy')\n",
    "plt.plot(epochs, val_acc, 'b', label='Validation accuracy')\n",
    "plt.title('Training and validation accuracy')\n",
    "plt.legend()\n",
    "\n",
    "plt.subplot(1, 2, 2)\n",
    "plt.plot(epochs, loss, 'bo', label='Training Loss')\n",
    "plt.plot(epochs, val_loss, 'b', label='Validation Loss')\n",
    "plt.title('Training and validation loss')\n",
    "plt.legend()\n",
    "\n",
    "plt.show()"
   ]
  },
  {
   "cell_type": "markdown",
   "metadata": {
    "id": "0pD3HSb4AjPr"
   },
   "source": [
    "## Inferencing"
   ]
  },
  {
   "cell_type": "code",
   "execution_count": 64,
   "metadata": {
    "tags": []
   },
   "outputs": [],
   "source": [
    "import os\n",
    "import random\n",
    "import cv2\n",
    "\n",
    "label_map = {\n",
    "    'BARN SWALLOW': 0,\n",
    "    'BARRED PUFFBIRD': 1,\n",
    "    'BLACK BAZA': 2,\n",
    "    'BURCHELLS COURSER': 3,\n",
    "    'COPPERY TAILED COUCAL': 4,\n",
    "    'EASTERN BLUEBIRD': 5,\n",
    "    'EMPEROR PENGUIN': 6,\n",
    "    'Gordon_setter': 7,\n",
    "    'JACK SNIPE': 8,\n",
    "    'Leonberg': 9,\n",
    "    'MOURNING DOVE': 10,\n",
    "    'SHOEBILL': 11,\n",
    "    'Shetland_sheepdog': 12,\n",
    "    'Sussex_spaniel': 13,\n",
    "    'Tibetan_terrier': 14,\n",
    "    'flat-coated_retriever': 15,\n",
    "    'giant_schnauzer': 16,\n",
    "    'golden_retriever': 17,\n",
    "    'malinois': 18,\n",
    "    'toy_terrier': 19\n",
    "}\n",
    "\n",
    "base_dir = '/root/42028/AT2/AT2-Part1/image_dataset/'\n",
    "\n",
    "# Create a dictionary to store the randomly selected images\n",
    "random_images = {}\n",
    "\n",
    "# Iterate over each class label folder\n",
    "for label, index in label_map.items():\n",
    "    folder_path = os.path.join(base_dir, label)\n",
    "    # Get the list of files in the folder\n",
    "    files = os.listdir(folder_path)\n",
    "    # Randomly select one file\n",
    "    random_file = random.choice(files)\n",
    "    # Get the full path to the randomly selected image\n",
    "    image_path = os.path.join(folder_path, random_file)\n",
    "    # Read the image using OpenCV\n",
    "    img = cv2.imread(image_path)\n",
    "    # Add the image to the dictionary\n",
    "    random_images[label] = img\n",
    "\n",
    "\n"
   ]
  },
  {
   "cell_type": "code",
   "execution_count": 66,
   "metadata": {
    "tags": []
   },
   "outputs": [
    {
     "name": "stdout",
     "output_type": "stream",
     "text": [
      "1/1 [==============================] - 1s 1s/step\n",
      "The predicted class for BARN SWALLOW is: BARN SWALLOW\n",
      "1/1 [==============================] - 0s 32ms/step\n",
      "The predicted class for BARRED PUFFBIRD is: BARRED PUFFBIRD\n",
      "1/1 [==============================] - 0s 31ms/step\n",
      "The predicted class for BLACK BAZA is: BLACK BAZA\n",
      "1/1 [==============================] - 0s 30ms/step\n",
      "The predicted class for BURCHELLS COURSER is: BURCHELLS COURSER\n",
      "1/1 [==============================] - 0s 31ms/step\n",
      "The predicted class for COPPERY TAILED COUCAL is: COPPERY TAILED COUCAL\n",
      "1/1 [==============================] - 0s 32ms/step\n",
      "The predicted class for EASTERN BLUEBIRD is: EASTERN BLUEBIRD\n",
      "1/1 [==============================] - 0s 30ms/step\n",
      "The predicted class for EMPEROR PENGUIN is: EMPEROR PENGUIN\n",
      "1/1 [==============================] - 0s 30ms/step\n",
      "The predicted class for Gordon_setter is: Gordon_setter\n",
      "1/1 [==============================] - 0s 31ms/step\n",
      "The predicted class for JACK SNIPE is: JACK SNIPE\n",
      "1/1 [==============================] - 0s 30ms/step\n",
      "The predicted class for Leonberg is: Leonberg\n",
      "1/1 [==============================] - 0s 31ms/step\n",
      "The predicted class for MOURNING DOVE is: MOURNING DOVE\n",
      "1/1 [==============================] - 0s 30ms/step\n",
      "The predicted class for SHOEBILL is: SHOEBILL\n",
      "1/1 [==============================] - 0s 30ms/step\n",
      "The predicted class for Shetland_sheepdog is: Shetland_sheepdog\n",
      "1/1 [==============================] - 0s 30ms/step\n",
      "The predicted class for Sussex_spaniel is: Sussex_spaniel\n",
      "1/1 [==============================] - 0s 29ms/step\n",
      "The predicted class for Tibetan_terrier is: Tibetan_terrier\n",
      "1/1 [==============================] - 0s 29ms/step\n",
      "The predicted class for flat-coated_retriever is: flat-coated_retriever\n",
      "1/1 [==============================] - 0s 29ms/step\n",
      "The predicted class for giant_schnauzer is: giant_schnauzer\n",
      "1/1 [==============================] - 0s 29ms/step\n",
      "The predicted class for golden_retriever is: golden_retriever\n",
      "1/1 [==============================] - 0s 29ms/step\n",
      "The predicted class for malinois is: malinois\n",
      "1/1 [==============================] - 0s 29ms/step\n",
      "The predicted class for toy_terrier is: toy_terrier\n"
     ]
    }
   ],
   "source": [
    "\n",
    "\n",
    "# Iterate over each image\n",
    "for label, img in random_images.items():\n",
    "    # Preprocess the image\n",
    "    img = cv2.resize(img, (256, 256))\n",
    "    img = img / 255.0\n",
    "    img = np.expand_dims(img, axis=0)\n",
    "\n",
    "    # Make predictions\n",
    "    predictions = custom_resnet.predict(img)\n",
    "\n",
    "    # Get the class with the highest probability\n",
    "    class_idx = np.argmax(predictions)\n",
    "\n",
    "    # Define the label map\n",
    "    label_map = {\n",
    "        'BARN SWALLOW': 0,\n",
    "        'BARRED PUFFBIRD': 1,\n",
    "        'BLACK BAZA': 2,\n",
    "        'BURCHELLS COURSER': 3,\n",
    "        'COPPERY TAILED COUCAL': 4,\n",
    "        'EASTERN BLUEBIRD': 5,\n",
    "        'EMPEROR PENGUIN': 6,\n",
    "        'Gordon_setter': 7,\n",
    "        'JACK SNIPE': 8,\n",
    "        'Leonberg': 9,\n",
    "        'MOURNING DOVE': 10,\n",
    "        'SHOEBILL': 11,\n",
    "        'Shetland_sheepdog': 12,\n",
    "        'Sussex_spaniel': 13,\n",
    "        'Tibetan_terrier': 14,\n",
    "        'flat-coated_retriever': 15,\n",
    "        'giant_schnauzer': 16,\n",
    "        'golden_retriever': 17,\n",
    "        'malinois': 18,\n",
    "        'toy_terrier': 19\n",
    "    }\n",
    "\n",
    "    # Get the class label from the label map\n",
    "    class_label = list(label_map.keys())[list(label_map.values()).index(class_idx)]\n",
    "\n",
    "    # Print the predicted class\n",
    "    print(f'The predicted class for {label} is: {class_label}')\n"
   ]
  },
  {
   "cell_type": "code",
   "execution_count": null,
   "metadata": {},
   "outputs": [],
   "source": []
  }
 ],
 "metadata": {
  "accelerator": "GPU",
  "availableInstances": [
   {
    "_defaultOrder": 0,
    "_isFastLaunch": true,
    "category": "General purpose",
    "gpuNum": 0,
    "hideHardwareSpecs": false,
    "memoryGiB": 4,
    "name": "ml.t3.medium",
    "vcpuNum": 2
   },
   {
    "_defaultOrder": 1,
    "_isFastLaunch": false,
    "category": "General purpose",
    "gpuNum": 0,
    "hideHardwareSpecs": false,
    "memoryGiB": 8,
    "name": "ml.t3.large",
    "vcpuNum": 2
   },
   {
    "_defaultOrder": 2,
    "_isFastLaunch": false,
    "category": "General purpose",
    "gpuNum": 0,
    "hideHardwareSpecs": false,
    "memoryGiB": 16,
    "name": "ml.t3.xlarge",
    "vcpuNum": 4
   },
   {
    "_defaultOrder": 3,
    "_isFastLaunch": false,
    "category": "General purpose",
    "gpuNum": 0,
    "hideHardwareSpecs": false,
    "memoryGiB": 32,
    "name": "ml.t3.2xlarge",
    "vcpuNum": 8
   },
   {
    "_defaultOrder": 4,
    "_isFastLaunch": true,
    "category": "General purpose",
    "gpuNum": 0,
    "hideHardwareSpecs": false,
    "memoryGiB": 8,
    "name": "ml.m5.large",
    "vcpuNum": 2
   },
   {
    "_defaultOrder": 5,
    "_isFastLaunch": false,
    "category": "General purpose",
    "gpuNum": 0,
    "hideHardwareSpecs": false,
    "memoryGiB": 16,
    "name": "ml.m5.xlarge",
    "vcpuNum": 4
   },
   {
    "_defaultOrder": 6,
    "_isFastLaunch": false,
    "category": "General purpose",
    "gpuNum": 0,
    "hideHardwareSpecs": false,
    "memoryGiB": 32,
    "name": "ml.m5.2xlarge",
    "vcpuNum": 8
   },
   {
    "_defaultOrder": 7,
    "_isFastLaunch": false,
    "category": "General purpose",
    "gpuNum": 0,
    "hideHardwareSpecs": false,
    "memoryGiB": 64,
    "name": "ml.m5.4xlarge",
    "vcpuNum": 16
   },
   {
    "_defaultOrder": 8,
    "_isFastLaunch": false,
    "category": "General purpose",
    "gpuNum": 0,
    "hideHardwareSpecs": false,
    "memoryGiB": 128,
    "name": "ml.m5.8xlarge",
    "vcpuNum": 32
   },
   {
    "_defaultOrder": 9,
    "_isFastLaunch": false,
    "category": "General purpose",
    "gpuNum": 0,
    "hideHardwareSpecs": false,
    "memoryGiB": 192,
    "name": "ml.m5.12xlarge",
    "vcpuNum": 48
   },
   {
    "_defaultOrder": 10,
    "_isFastLaunch": false,
    "category": "General purpose",
    "gpuNum": 0,
    "hideHardwareSpecs": false,
    "memoryGiB": 256,
    "name": "ml.m5.16xlarge",
    "vcpuNum": 64
   },
   {
    "_defaultOrder": 11,
    "_isFastLaunch": false,
    "category": "General purpose",
    "gpuNum": 0,
    "hideHardwareSpecs": false,
    "memoryGiB": 384,
    "name": "ml.m5.24xlarge",
    "vcpuNum": 96
   },
   {
    "_defaultOrder": 12,
    "_isFastLaunch": false,
    "category": "General purpose",
    "gpuNum": 0,
    "hideHardwareSpecs": false,
    "memoryGiB": 8,
    "name": "ml.m5d.large",
    "vcpuNum": 2
   },
   {
    "_defaultOrder": 13,
    "_isFastLaunch": false,
    "category": "General purpose",
    "gpuNum": 0,
    "hideHardwareSpecs": false,
    "memoryGiB": 16,
    "name": "ml.m5d.xlarge",
    "vcpuNum": 4
   },
   {
    "_defaultOrder": 14,
    "_isFastLaunch": false,
    "category": "General purpose",
    "gpuNum": 0,
    "hideHardwareSpecs": false,
    "memoryGiB": 32,
    "name": "ml.m5d.2xlarge",
    "vcpuNum": 8
   },
   {
    "_defaultOrder": 15,
    "_isFastLaunch": false,
    "category": "General purpose",
    "gpuNum": 0,
    "hideHardwareSpecs": false,
    "memoryGiB": 64,
    "name": "ml.m5d.4xlarge",
    "vcpuNum": 16
   },
   {
    "_defaultOrder": 16,
    "_isFastLaunch": false,
    "category": "General purpose",
    "gpuNum": 0,
    "hideHardwareSpecs": false,
    "memoryGiB": 128,
    "name": "ml.m5d.8xlarge",
    "vcpuNum": 32
   },
   {
    "_defaultOrder": 17,
    "_isFastLaunch": false,
    "category": "General purpose",
    "gpuNum": 0,
    "hideHardwareSpecs": false,
    "memoryGiB": 192,
    "name": "ml.m5d.12xlarge",
    "vcpuNum": 48
   },
   {
    "_defaultOrder": 18,
    "_isFastLaunch": false,
    "category": "General purpose",
    "gpuNum": 0,
    "hideHardwareSpecs": false,
    "memoryGiB": 256,
    "name": "ml.m5d.16xlarge",
    "vcpuNum": 64
   },
   {
    "_defaultOrder": 19,
    "_isFastLaunch": false,
    "category": "General purpose",
    "gpuNum": 0,
    "hideHardwareSpecs": false,
    "memoryGiB": 384,
    "name": "ml.m5d.24xlarge",
    "vcpuNum": 96
   },
   {
    "_defaultOrder": 20,
    "_isFastLaunch": false,
    "category": "General purpose",
    "gpuNum": 0,
    "hideHardwareSpecs": true,
    "memoryGiB": 0,
    "name": "ml.geospatial.interactive",
    "supportedImageNames": [
     "sagemaker-geospatial-v1-0"
    ],
    "vcpuNum": 0
   },
   {
    "_defaultOrder": 21,
    "_isFastLaunch": true,
    "category": "Compute optimized",
    "gpuNum": 0,
    "hideHardwareSpecs": false,
    "memoryGiB": 4,
    "name": "ml.c5.large",
    "vcpuNum": 2
   },
   {
    "_defaultOrder": 22,
    "_isFastLaunch": false,
    "category": "Compute optimized",
    "gpuNum": 0,
    "hideHardwareSpecs": false,
    "memoryGiB": 8,
    "name": "ml.c5.xlarge",
    "vcpuNum": 4
   },
   {
    "_defaultOrder": 23,
    "_isFastLaunch": false,
    "category": "Compute optimized",
    "gpuNum": 0,
    "hideHardwareSpecs": false,
    "memoryGiB": 16,
    "name": "ml.c5.2xlarge",
    "vcpuNum": 8
   },
   {
    "_defaultOrder": 24,
    "_isFastLaunch": false,
    "category": "Compute optimized",
    "gpuNum": 0,
    "hideHardwareSpecs": false,
    "memoryGiB": 32,
    "name": "ml.c5.4xlarge",
    "vcpuNum": 16
   },
   {
    "_defaultOrder": 25,
    "_isFastLaunch": false,
    "category": "Compute optimized",
    "gpuNum": 0,
    "hideHardwareSpecs": false,
    "memoryGiB": 72,
    "name": "ml.c5.9xlarge",
    "vcpuNum": 36
   },
   {
    "_defaultOrder": 26,
    "_isFastLaunch": false,
    "category": "Compute optimized",
    "gpuNum": 0,
    "hideHardwareSpecs": false,
    "memoryGiB": 96,
    "name": "ml.c5.12xlarge",
    "vcpuNum": 48
   },
   {
    "_defaultOrder": 27,
    "_isFastLaunch": false,
    "category": "Compute optimized",
    "gpuNum": 0,
    "hideHardwareSpecs": false,
    "memoryGiB": 144,
    "name": "ml.c5.18xlarge",
    "vcpuNum": 72
   },
   {
    "_defaultOrder": 28,
    "_isFastLaunch": false,
    "category": "Compute optimized",
    "gpuNum": 0,
    "hideHardwareSpecs": false,
    "memoryGiB": 192,
    "name": "ml.c5.24xlarge",
    "vcpuNum": 96
   },
   {
    "_defaultOrder": 29,
    "_isFastLaunch": true,
    "category": "Accelerated computing",
    "gpuNum": 1,
    "hideHardwareSpecs": false,
    "memoryGiB": 16,
    "name": "ml.g4dn.xlarge",
    "vcpuNum": 4
   },
   {
    "_defaultOrder": 30,
    "_isFastLaunch": false,
    "category": "Accelerated computing",
    "gpuNum": 1,
    "hideHardwareSpecs": false,
    "memoryGiB": 32,
    "name": "ml.g4dn.2xlarge",
    "vcpuNum": 8
   },
   {
    "_defaultOrder": 31,
    "_isFastLaunch": false,
    "category": "Accelerated computing",
    "gpuNum": 1,
    "hideHardwareSpecs": false,
    "memoryGiB": 64,
    "name": "ml.g4dn.4xlarge",
    "vcpuNum": 16
   },
   {
    "_defaultOrder": 32,
    "_isFastLaunch": false,
    "category": "Accelerated computing",
    "gpuNum": 1,
    "hideHardwareSpecs": false,
    "memoryGiB": 128,
    "name": "ml.g4dn.8xlarge",
    "vcpuNum": 32
   },
   {
    "_defaultOrder": 33,
    "_isFastLaunch": false,
    "category": "Accelerated computing",
    "gpuNum": 4,
    "hideHardwareSpecs": false,
    "memoryGiB": 192,
    "name": "ml.g4dn.12xlarge",
    "vcpuNum": 48
   },
   {
    "_defaultOrder": 34,
    "_isFastLaunch": false,
    "category": "Accelerated computing",
    "gpuNum": 1,
    "hideHardwareSpecs": false,
    "memoryGiB": 256,
    "name": "ml.g4dn.16xlarge",
    "vcpuNum": 64
   },
   {
    "_defaultOrder": 35,
    "_isFastLaunch": false,
    "category": "Accelerated computing",
    "gpuNum": 1,
    "hideHardwareSpecs": false,
    "memoryGiB": 61,
    "name": "ml.p3.2xlarge",
    "vcpuNum": 8
   },
   {
    "_defaultOrder": 36,
    "_isFastLaunch": false,
    "category": "Accelerated computing",
    "gpuNum": 4,
    "hideHardwareSpecs": false,
    "memoryGiB": 244,
    "name": "ml.p3.8xlarge",
    "vcpuNum": 32
   },
   {
    "_defaultOrder": 37,
    "_isFastLaunch": false,
    "category": "Accelerated computing",
    "gpuNum": 8,
    "hideHardwareSpecs": false,
    "memoryGiB": 488,
    "name": "ml.p3.16xlarge",
    "vcpuNum": 64
   },
   {
    "_defaultOrder": 38,
    "_isFastLaunch": false,
    "category": "Accelerated computing",
    "gpuNum": 8,
    "hideHardwareSpecs": false,
    "memoryGiB": 768,
    "name": "ml.p3dn.24xlarge",
    "vcpuNum": 96
   },
   {
    "_defaultOrder": 39,
    "_isFastLaunch": false,
    "category": "Memory Optimized",
    "gpuNum": 0,
    "hideHardwareSpecs": false,
    "memoryGiB": 16,
    "name": "ml.r5.large",
    "vcpuNum": 2
   },
   {
    "_defaultOrder": 40,
    "_isFastLaunch": false,
    "category": "Memory Optimized",
    "gpuNum": 0,
    "hideHardwareSpecs": false,
    "memoryGiB": 32,
    "name": "ml.r5.xlarge",
    "vcpuNum": 4
   },
   {
    "_defaultOrder": 41,
    "_isFastLaunch": false,
    "category": "Memory Optimized",
    "gpuNum": 0,
    "hideHardwareSpecs": false,
    "memoryGiB": 64,
    "name": "ml.r5.2xlarge",
    "vcpuNum": 8
   },
   {
    "_defaultOrder": 42,
    "_isFastLaunch": false,
    "category": "Memory Optimized",
    "gpuNum": 0,
    "hideHardwareSpecs": false,
    "memoryGiB": 128,
    "name": "ml.r5.4xlarge",
    "vcpuNum": 16
   },
   {
    "_defaultOrder": 43,
    "_isFastLaunch": false,
    "category": "Memory Optimized",
    "gpuNum": 0,
    "hideHardwareSpecs": false,
    "memoryGiB": 256,
    "name": "ml.r5.8xlarge",
    "vcpuNum": 32
   },
   {
    "_defaultOrder": 44,
    "_isFastLaunch": false,
    "category": "Memory Optimized",
    "gpuNum": 0,
    "hideHardwareSpecs": false,
    "memoryGiB": 384,
    "name": "ml.r5.12xlarge",
    "vcpuNum": 48
   },
   {
    "_defaultOrder": 45,
    "_isFastLaunch": false,
    "category": "Memory Optimized",
    "gpuNum": 0,
    "hideHardwareSpecs": false,
    "memoryGiB": 512,
    "name": "ml.r5.16xlarge",
    "vcpuNum": 64
   },
   {
    "_defaultOrder": 46,
    "_isFastLaunch": false,
    "category": "Memory Optimized",
    "gpuNum": 0,
    "hideHardwareSpecs": false,
    "memoryGiB": 768,
    "name": "ml.r5.24xlarge",
    "vcpuNum": 96
   },
   {
    "_defaultOrder": 47,
    "_isFastLaunch": false,
    "category": "Accelerated computing",
    "gpuNum": 1,
    "hideHardwareSpecs": false,
    "memoryGiB": 16,
    "name": "ml.g5.xlarge",
    "vcpuNum": 4
   },
   {
    "_defaultOrder": 48,
    "_isFastLaunch": false,
    "category": "Accelerated computing",
    "gpuNum": 1,
    "hideHardwareSpecs": false,
    "memoryGiB": 32,
    "name": "ml.g5.2xlarge",
    "vcpuNum": 8
   },
   {
    "_defaultOrder": 49,
    "_isFastLaunch": false,
    "category": "Accelerated computing",
    "gpuNum": 1,
    "hideHardwareSpecs": false,
    "memoryGiB": 64,
    "name": "ml.g5.4xlarge",
    "vcpuNum": 16
   },
   {
    "_defaultOrder": 50,
    "_isFastLaunch": false,
    "category": "Accelerated computing",
    "gpuNum": 1,
    "hideHardwareSpecs": false,
    "memoryGiB": 128,
    "name": "ml.g5.8xlarge",
    "vcpuNum": 32
   },
   {
    "_defaultOrder": 51,
    "_isFastLaunch": false,
    "category": "Accelerated computing",
    "gpuNum": 1,
    "hideHardwareSpecs": false,
    "memoryGiB": 256,
    "name": "ml.g5.16xlarge",
    "vcpuNum": 64
   },
   {
    "_defaultOrder": 52,
    "_isFastLaunch": false,
    "category": "Accelerated computing",
    "gpuNum": 4,
    "hideHardwareSpecs": false,
    "memoryGiB": 192,
    "name": "ml.g5.12xlarge",
    "vcpuNum": 48
   },
   {
    "_defaultOrder": 53,
    "_isFastLaunch": false,
    "category": "Accelerated computing",
    "gpuNum": 4,
    "hideHardwareSpecs": false,
    "memoryGiB": 384,
    "name": "ml.g5.24xlarge",
    "vcpuNum": 96
   },
   {
    "_defaultOrder": 54,
    "_isFastLaunch": false,
    "category": "Accelerated computing",
    "gpuNum": 8,
    "hideHardwareSpecs": false,
    "memoryGiB": 768,
    "name": "ml.g5.48xlarge",
    "vcpuNum": 192
   },
   {
    "_defaultOrder": 55,
    "_isFastLaunch": false,
    "category": "Accelerated computing",
    "gpuNum": 8,
    "hideHardwareSpecs": false,
    "memoryGiB": 1152,
    "name": "ml.p4d.24xlarge",
    "vcpuNum": 96
   },
   {
    "_defaultOrder": 56,
    "_isFastLaunch": false,
    "category": "Accelerated computing",
    "gpuNum": 8,
    "hideHardwareSpecs": false,
    "memoryGiB": 1152,
    "name": "ml.p4de.24xlarge",
    "vcpuNum": 96
   },
   {
    "_defaultOrder": 57,
    "_isFastLaunch": false,
    "category": "Accelerated computing",
    "gpuNum": 0,
    "hideHardwareSpecs": false,
    "memoryGiB": 32,
    "name": "ml.trn1.2xlarge",
    "vcpuNum": 8
   },
   {
    "_defaultOrder": 58,
    "_isFastLaunch": false,
    "category": "Accelerated computing",
    "gpuNum": 0,
    "hideHardwareSpecs": false,
    "memoryGiB": 512,
    "name": "ml.trn1.32xlarge",
    "vcpuNum": 128
   },
   {
    "_defaultOrder": 59,
    "_isFastLaunch": false,
    "category": "Accelerated computing",
    "gpuNum": 0,
    "hideHardwareSpecs": false,
    "memoryGiB": 512,
    "name": "ml.trn1n.32xlarge",
    "vcpuNum": 128
   }
  ],
  "colab": {
   "provenance": []
  },
  "kernelspec": {
   "display_name": "Python 3 (TensorFlow 2.11.0 Python 3.9 GPU Optimized)",
   "language": "python",
   "name": "python3__SAGEMAKER_INTERNAL__arn:aws:sagemaker:ap-southeast-2:452832661640:image/tensorflow-2.11.0-gpu-py39-cu112-ubuntu20.04-sagemaker-v1.1"
  },
  "language_info": {
   "codemirror_mode": {
    "name": "ipython",
    "version": 3
   },
   "file_extension": ".py",
   "mimetype": "text/x-python",
   "name": "python",
   "nbconvert_exporter": "python",
   "pygments_lexer": "ipython3",
   "version": "3.9.10"
  }
 },
 "nbformat": 4,
 "nbformat_minor": 4
}
